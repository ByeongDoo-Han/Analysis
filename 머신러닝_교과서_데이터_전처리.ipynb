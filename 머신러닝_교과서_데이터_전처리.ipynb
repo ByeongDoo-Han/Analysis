{
  "nbformat": 4,
  "nbformat_minor": 0,
  "metadata": {
    "colab": {
      "name": "머신러닝 교과서 데이터 전처리",
      "provenance": [],
      "collapsed_sections": [],
      "toc_visible": true,
      "include_colab_link": true
    },
    "kernelspec": {
      "name": "python3",
      "display_name": "Python 3"
    }
  },
  "cells": [
    {
      "cell_type": "markdown",
      "metadata": {
        "id": "view-in-github",
        "colab_type": "text"
      },
      "source": [
        "<a href=\"https://colab.research.google.com/github/ByeongDoo-Han/Analysis/blob/master/%EB%A8%B8%EC%8B%A0%EB%9F%AC%EB%8B%9D_%EA%B5%90%EA%B3%BC%EC%84%9C_%EB%8D%B0%EC%9D%B4%ED%84%B0_%EC%A0%84%EC%B2%98%EB%A6%AC.ipynb\" target=\"_parent\"><img src=\"https://colab.research.google.com/assets/colab-badge.svg\" alt=\"Open In Colab\"/></a>"
      ]
    },
    {
      "cell_type": "code",
      "metadata": {
        "id": "SB4B7w47EBAk",
        "colab_type": "code",
        "colab": {}
      },
      "source": [
        "import pandas as pd\n",
        "import numpy as np\n",
        "from io import StringIO\n",
        "import seaborn as sns\n",
        "import matplotlib.pyplot as plt\n",
        "from itertools import combinations\n",
        "from sklearn.metrics import accuracy_score\n",
        "from sklearn.base import clone\n",
        "from sklearn.impute import SimpleImputer\n",
        "from sklearn.preprocessing import FunctionTransformer\n",
        "from sklearn.preprocessing import LabelEncoder\n",
        "from sklearn.compose import ColumnTransformer\n",
        "from sklearn.preprocessing import OrdinalEncoder\n",
        "from sklearn.preprocessing import OneHotEncoder\n",
        "from sklearn.model_selection import train_test_split\n",
        "from sklearn.preprocessing import MinMaxScaler\n",
        "from sklearn.preprocessing import StandardScaler\n",
        "from sklearn.feature_selection import SelectFromModel\n",
        "from sklearn.linear_model import LogisticRegression\n",
        "from sklearn.neighbors import KNeighborsClassifier\n",
        "from sklearn.ensemble import RandomForestClassifier"
      ],
      "execution_count": null,
      "outputs": []
    },
    {
      "cell_type": "markdown",
      "metadata": {
        "id": "E-AWW9aCFKlh",
        "colab_type": "text"
      },
      "source": [
        "# 4.1 누락된 데이터 다루기"
      ]
    },
    {
      "cell_type": "markdown",
      "metadata": {
        "id": "eZkJc4hWEPZy",
        "colab_type": "text"
      },
      "source": [
        "# 4장 주요 내용\n",
        "- 인터넷에서 누락된 값을 제거하거나 대체하기\n",
        "- 머신러닝 알고리금을 위해 범주형 데이터 변환하기\n",
        "- 모델과 관련이 높은 특성 선택하기\n"
      ]
    },
    {
      "cell_type": "code",
      "metadata": {
        "id": "cCoh1lvxFT7W",
        "colab_type": "code",
        "colab": {
          "base_uri": "https://localhost:8080/",
          "height": 141
        },
        "outputId": "1890bad8-edd9-418e-86b4-999e4ad61d00"
      },
      "source": [
        "# StringIO를 이용해서 NaN값이 포함된 데이터 프레임 생성\n",
        "csv_data =\\\n",
        " '''A,B,C,D\n",
        "1.0,2.0,3.0,4.0\n",
        "5.0,6.0,,8.0\n",
        "10.0,11.0,12.0'''\n",
        "\n",
        "df = pd.read_csv(StringIO(csv_data))\n",
        "df"
      ],
      "execution_count": null,
      "outputs": [
        {
          "output_type": "execute_result",
          "data": {
            "text/html": [
              "<div>\n",
              "<style scoped>\n",
              "    .dataframe tbody tr th:only-of-type {\n",
              "        vertical-align: middle;\n",
              "    }\n",
              "\n",
              "    .dataframe tbody tr th {\n",
              "        vertical-align: top;\n",
              "    }\n",
              "\n",
              "    .dataframe thead th {\n",
              "        text-align: right;\n",
              "    }\n",
              "</style>\n",
              "<table border=\"1\" class=\"dataframe\">\n",
              "  <thead>\n",
              "    <tr style=\"text-align: right;\">\n",
              "      <th></th>\n",
              "      <th>A</th>\n",
              "      <th>B</th>\n",
              "      <th>C</th>\n",
              "      <th>D</th>\n",
              "    </tr>\n",
              "  </thead>\n",
              "  <tbody>\n",
              "    <tr>\n",
              "      <th>0</th>\n",
              "      <td>1.0</td>\n",
              "      <td>2.0</td>\n",
              "      <td>3.0</td>\n",
              "      <td>4.0</td>\n",
              "    </tr>\n",
              "    <tr>\n",
              "      <th>1</th>\n",
              "      <td>5.0</td>\n",
              "      <td>6.0</td>\n",
              "      <td>NaN</td>\n",
              "      <td>8.0</td>\n",
              "    </tr>\n",
              "    <tr>\n",
              "      <th>2</th>\n",
              "      <td>10.0</td>\n",
              "      <td>11.0</td>\n",
              "      <td>12.0</td>\n",
              "      <td>NaN</td>\n",
              "    </tr>\n",
              "  </tbody>\n",
              "</table>\n",
              "</div>"
            ],
            "text/plain": [
              "      A     B     C    D\n",
              "0   1.0   2.0   3.0  4.0\n",
              "1   5.0   6.0   NaN  8.0\n",
              "2  10.0  11.0  12.0  NaN"
            ]
          },
          "metadata": {
            "tags": []
          },
          "execution_count": 3
        }
      ]
    },
    {
      "cell_type": "code",
      "metadata": {
        "id": "EEmfU33FHDRz",
        "colab_type": "code",
        "colab": {
          "base_uri": "https://localhost:8080/",
          "height": 357
        },
        "outputId": "ab50be6d-54f1-43c0-dacf-c5600e1d5a76"
      },
      "source": [
        "# NaN값이 하나라도 있는 행 제거\n",
        "display(df.dropna(axis = 0))\n",
        "# 값이 모두 NaN인 행 제거\n",
        "display(df.dropna(how = 'all'))\n",
        "# 실수 값이 네 개보다 작은 행을 삭제\n",
        "display(df.dropna(thresh = 4))\n",
        "# 특정 열에 NaN이 있는 행만 삭제(여기서는 'C'열)\n",
        "display(df.dropna(subset = ['C']))"
      ],
      "execution_count": null,
      "outputs": [
        {
          "output_type": "display_data",
          "data": {
            "text/html": [
              "<div>\n",
              "<style scoped>\n",
              "    .dataframe tbody tr th:only-of-type {\n",
              "        vertical-align: middle;\n",
              "    }\n",
              "\n",
              "    .dataframe tbody tr th {\n",
              "        vertical-align: top;\n",
              "    }\n",
              "\n",
              "    .dataframe thead th {\n",
              "        text-align: right;\n",
              "    }\n",
              "</style>\n",
              "<table border=\"1\" class=\"dataframe\">\n",
              "  <thead>\n",
              "    <tr style=\"text-align: right;\">\n",
              "      <th></th>\n",
              "      <th>A</th>\n",
              "      <th>B</th>\n",
              "      <th>C</th>\n",
              "      <th>D</th>\n",
              "    </tr>\n",
              "  </thead>\n",
              "  <tbody>\n",
              "    <tr>\n",
              "      <th>0</th>\n",
              "      <td>1.0</td>\n",
              "      <td>2.0</td>\n",
              "      <td>3.0</td>\n",
              "      <td>4.0</td>\n",
              "    </tr>\n",
              "  </tbody>\n",
              "</table>\n",
              "</div>"
            ],
            "text/plain": [
              "     A    B    C    D\n",
              "0  1.0  2.0  3.0  4.0"
            ]
          },
          "metadata": {
            "tags": []
          }
        },
        {
          "output_type": "display_data",
          "data": {
            "text/html": [
              "<div>\n",
              "<style scoped>\n",
              "    .dataframe tbody tr th:only-of-type {\n",
              "        vertical-align: middle;\n",
              "    }\n",
              "\n",
              "    .dataframe tbody tr th {\n",
              "        vertical-align: top;\n",
              "    }\n",
              "\n",
              "    .dataframe thead th {\n",
              "        text-align: right;\n",
              "    }\n",
              "</style>\n",
              "<table border=\"1\" class=\"dataframe\">\n",
              "  <thead>\n",
              "    <tr style=\"text-align: right;\">\n",
              "      <th></th>\n",
              "      <th>A</th>\n",
              "      <th>B</th>\n",
              "      <th>C</th>\n",
              "      <th>D</th>\n",
              "    </tr>\n",
              "  </thead>\n",
              "  <tbody>\n",
              "    <tr>\n",
              "      <th>0</th>\n",
              "      <td>1.0</td>\n",
              "      <td>2.0</td>\n",
              "      <td>3.0</td>\n",
              "      <td>4.0</td>\n",
              "    </tr>\n",
              "    <tr>\n",
              "      <th>1</th>\n",
              "      <td>5.0</td>\n",
              "      <td>6.0</td>\n",
              "      <td>NaN</td>\n",
              "      <td>8.0</td>\n",
              "    </tr>\n",
              "    <tr>\n",
              "      <th>2</th>\n",
              "      <td>10.0</td>\n",
              "      <td>11.0</td>\n",
              "      <td>12.0</td>\n",
              "      <td>NaN</td>\n",
              "    </tr>\n",
              "  </tbody>\n",
              "</table>\n",
              "</div>"
            ],
            "text/plain": [
              "      A     B     C    D\n",
              "0   1.0   2.0   3.0  4.0\n",
              "1   5.0   6.0   NaN  8.0\n",
              "2  10.0  11.0  12.0  NaN"
            ]
          },
          "metadata": {
            "tags": []
          }
        },
        {
          "output_type": "display_data",
          "data": {
            "text/html": [
              "<div>\n",
              "<style scoped>\n",
              "    .dataframe tbody tr th:only-of-type {\n",
              "        vertical-align: middle;\n",
              "    }\n",
              "\n",
              "    .dataframe tbody tr th {\n",
              "        vertical-align: top;\n",
              "    }\n",
              "\n",
              "    .dataframe thead th {\n",
              "        text-align: right;\n",
              "    }\n",
              "</style>\n",
              "<table border=\"1\" class=\"dataframe\">\n",
              "  <thead>\n",
              "    <tr style=\"text-align: right;\">\n",
              "      <th></th>\n",
              "      <th>A</th>\n",
              "      <th>B</th>\n",
              "      <th>C</th>\n",
              "      <th>D</th>\n",
              "    </tr>\n",
              "  </thead>\n",
              "  <tbody>\n",
              "    <tr>\n",
              "      <th>0</th>\n",
              "      <td>1.0</td>\n",
              "      <td>2.0</td>\n",
              "      <td>3.0</td>\n",
              "      <td>4.0</td>\n",
              "    </tr>\n",
              "  </tbody>\n",
              "</table>\n",
              "</div>"
            ],
            "text/plain": [
              "     A    B    C    D\n",
              "0  1.0  2.0  3.0  4.0"
            ]
          },
          "metadata": {
            "tags": []
          }
        },
        {
          "output_type": "display_data",
          "data": {
            "text/html": [
              "<div>\n",
              "<style scoped>\n",
              "    .dataframe tbody tr th:only-of-type {\n",
              "        vertical-align: middle;\n",
              "    }\n",
              "\n",
              "    .dataframe tbody tr th {\n",
              "        vertical-align: top;\n",
              "    }\n",
              "\n",
              "    .dataframe thead th {\n",
              "        text-align: right;\n",
              "    }\n",
              "</style>\n",
              "<table border=\"1\" class=\"dataframe\">\n",
              "  <thead>\n",
              "    <tr style=\"text-align: right;\">\n",
              "      <th></th>\n",
              "      <th>A</th>\n",
              "      <th>B</th>\n",
              "      <th>C</th>\n",
              "      <th>D</th>\n",
              "    </tr>\n",
              "  </thead>\n",
              "  <tbody>\n",
              "    <tr>\n",
              "      <th>0</th>\n",
              "      <td>1.0</td>\n",
              "      <td>2.0</td>\n",
              "      <td>3.0</td>\n",
              "      <td>4.0</td>\n",
              "    </tr>\n",
              "    <tr>\n",
              "      <th>2</th>\n",
              "      <td>10.0</td>\n",
              "      <td>11.0</td>\n",
              "      <td>12.0</td>\n",
              "      <td>NaN</td>\n",
              "    </tr>\n",
              "  </tbody>\n",
              "</table>\n",
              "</div>"
            ],
            "text/plain": [
              "      A     B     C    D\n",
              "0   1.0   2.0   3.0  4.0\n",
              "2  10.0  11.0  12.0  NaN"
            ]
          },
          "metadata": {
            "tags": []
          }
        }
      ]
    },
    {
      "cell_type": "code",
      "metadata": {
        "id": "lPQhbqKRHDOD",
        "colab_type": "code",
        "colab": {
          "base_uri": "https://localhost:8080/",
          "height": 73
        },
        "outputId": "753f67cd-58b2-4e61-afda-54c35a264eeb"
      },
      "source": [
        "# SImpleImputer를 이용한 데이터 전처리\n",
        "# SimpleImputer는 행을 기준으로 계산하기 때문에 열을 기준으로 값을 계산하기위해선 FunctionTransformer를 이용해야함\n",
        "simr = SimpleImputer(missing_values=np.nan, strategy='mean') #nan값을 데이터의 mean값으로 대체\n",
        "simr = simr.fit(df.values)\n",
        "imputed_data = simr.transform(df.values)\n",
        "imputed_data"
      ],
      "execution_count": null,
      "outputs": [
        {
          "output_type": "execute_result",
          "data": {
            "text/plain": [
              "array([[ 1. ,  2. ,  3. ,  4. ],\n",
              "       [ 5. ,  6. ,  7.5,  8. ],\n",
              "       [10. , 11. , 12. ,  6. ]])"
            ]
          },
          "metadata": {
            "tags": []
          },
          "execution_count": 5
        }
      ]
    },
    {
      "cell_type": "code",
      "metadata": {
        "id": "TH0sgtnSNprs",
        "colab_type": "code",
        "colab": {
          "base_uri": "https://localhost:8080/",
          "height": 73
        },
        "outputId": "f77bc872-4c27-45b9-88f1-dece6d0a83e3"
      },
      "source": [
        "# 열을 기준으로 데이터의 평균값으로 NaN값 대체\n",
        "fit_simr = FunctionTransformer(lambda X: simr.fit_transform(X.T).T, validate = False)\n",
        "imputed_data = fit_simr.fit_transform(df.values)\n",
        "imputed_data"
      ],
      "execution_count": null,
      "outputs": [
        {
          "output_type": "execute_result",
          "data": {
            "text/plain": [
              "array([[ 1.        ,  2.        ,  3.        ,  4.        ],\n",
              "       [ 5.        ,  6.        ,  6.33333333,  8.        ],\n",
              "       [10.        , 11.        , 12.        , 11.        ]])"
            ]
          },
          "metadata": {
            "tags": []
          },
          "execution_count": 6
        }
      ]
    },
    {
      "cell_type": "markdown",
      "metadata": {
        "id": "vF0gC44WPqGW",
        "colab_type": "text"
      },
      "source": [
        "# 범주형 데이터 다루기"
      ]
    },
    {
      "cell_type": "code",
      "metadata": {
        "id": "5xZcy6ZVPsEg",
        "colab_type": "code",
        "colab": {
          "base_uri": "https://localhost:8080/",
          "height": 141
        },
        "outputId": "f77536d3-6534-4995-acb1-71f4bb7b45b2"
      },
      "source": [
        "# 데이터 생성\n",
        "df = pd.DataFrame([['green', 'M', 10.1, 'class1'],\n",
        "                   ['red','L',13.5, 'class2'],\n",
        "                   ['blue','XL',15.3, 'class1']])\n",
        "df.columns = ['color', 'size', 'price', 'classlabel']\n",
        "df"
      ],
      "execution_count": null,
      "outputs": [
        {
          "output_type": "execute_result",
          "data": {
            "text/html": [
              "<div>\n",
              "<style scoped>\n",
              "    .dataframe tbody tr th:only-of-type {\n",
              "        vertical-align: middle;\n",
              "    }\n",
              "\n",
              "    .dataframe tbody tr th {\n",
              "        vertical-align: top;\n",
              "    }\n",
              "\n",
              "    .dataframe thead th {\n",
              "        text-align: right;\n",
              "    }\n",
              "</style>\n",
              "<table border=\"1\" class=\"dataframe\">\n",
              "  <thead>\n",
              "    <tr style=\"text-align: right;\">\n",
              "      <th></th>\n",
              "      <th>color</th>\n",
              "      <th>size</th>\n",
              "      <th>price</th>\n",
              "      <th>classlabel</th>\n",
              "    </tr>\n",
              "  </thead>\n",
              "  <tbody>\n",
              "    <tr>\n",
              "      <th>0</th>\n",
              "      <td>green</td>\n",
              "      <td>M</td>\n",
              "      <td>10.1</td>\n",
              "      <td>class1</td>\n",
              "    </tr>\n",
              "    <tr>\n",
              "      <th>1</th>\n",
              "      <td>red</td>\n",
              "      <td>L</td>\n",
              "      <td>13.5</td>\n",
              "      <td>class2</td>\n",
              "    </tr>\n",
              "    <tr>\n",
              "      <th>2</th>\n",
              "      <td>blue</td>\n",
              "      <td>XL</td>\n",
              "      <td>15.3</td>\n",
              "      <td>class1</td>\n",
              "    </tr>\n",
              "  </tbody>\n",
              "</table>\n",
              "</div>"
            ],
            "text/plain": [
              "   color size  price classlabel\n",
              "0  green    M   10.1     class1\n",
              "1    red    L   13.5     class2\n",
              "2   blue   XL   15.3     class1"
            ]
          },
          "metadata": {
            "tags": []
          },
          "execution_count": 7
        }
      ]
    },
    {
      "cell_type": "code",
      "metadata": {
        "id": "84WzG4p1PseC",
        "colab_type": "code",
        "colab": {
          "base_uri": "https://localhost:8080/",
          "height": 141
        },
        "outputId": "fdb323f8-46e6-491a-b6fc-5cf79cffd4d5"
      },
      "source": [
        "# 순서 특성 매핑\n",
        "# 범주형 데이터에서 데이터의 순서를 알고리즘에 입력하기위해 매핑 작업을 해준다. (사이킷런 에서는 아직 특성의 순서를 자동으로 바꿔주는 기능이 없음)\n",
        "size_mapping = {'XL': 3,\n",
        "                'L': 2,\n",
        "                'M': 1}\n",
        "df['size'] = df['size'].map(size_mapping)\n",
        "df"
      ],
      "execution_count": null,
      "outputs": [
        {
          "output_type": "execute_result",
          "data": {
            "text/html": [
              "<div>\n",
              "<style scoped>\n",
              "    .dataframe tbody tr th:only-of-type {\n",
              "        vertical-align: middle;\n",
              "    }\n",
              "\n",
              "    .dataframe tbody tr th {\n",
              "        vertical-align: top;\n",
              "    }\n",
              "\n",
              "    .dataframe thead th {\n",
              "        text-align: right;\n",
              "    }\n",
              "</style>\n",
              "<table border=\"1\" class=\"dataframe\">\n",
              "  <thead>\n",
              "    <tr style=\"text-align: right;\">\n",
              "      <th></th>\n",
              "      <th>color</th>\n",
              "      <th>size</th>\n",
              "      <th>price</th>\n",
              "      <th>classlabel</th>\n",
              "    </tr>\n",
              "  </thead>\n",
              "  <tbody>\n",
              "    <tr>\n",
              "      <th>0</th>\n",
              "      <td>green</td>\n",
              "      <td>1</td>\n",
              "      <td>10.1</td>\n",
              "      <td>class1</td>\n",
              "    </tr>\n",
              "    <tr>\n",
              "      <th>1</th>\n",
              "      <td>red</td>\n",
              "      <td>2</td>\n",
              "      <td>13.5</td>\n",
              "      <td>class2</td>\n",
              "    </tr>\n",
              "    <tr>\n",
              "      <th>2</th>\n",
              "      <td>blue</td>\n",
              "      <td>3</td>\n",
              "      <td>15.3</td>\n",
              "      <td>class1</td>\n",
              "    </tr>\n",
              "  </tbody>\n",
              "</table>\n",
              "</div>"
            ],
            "text/plain": [
              "   color  size  price classlabel\n",
              "0  green     1   10.1     class1\n",
              "1    red     2   13.5     class2\n",
              "2   blue     3   15.3     class1"
            ]
          },
          "metadata": {
            "tags": []
          },
          "execution_count": 8
        }
      ]
    },
    {
      "cell_type": "markdown",
      "metadata": {
        "id": "FcCtNLn4T4DA",
        "colab_type": "text"
      },
      "source": [
        "# 클래스 레이블 인코딩\n",
        "- 사이킷런의 분류기 알고리즘은 대부분 클래스 레이블을 자동으로 정수로 변환해주지만 사소한 실수를 방지하기 위해 직접 바꿔주는것이 좋음"
      ]
    },
    {
      "cell_type": "code",
      "metadata": {
        "id": "ACUc_LmmPscO",
        "colab_type": "code",
        "colab": {
          "base_uri": "https://localhost:8080/",
          "height": 36
        },
        "outputId": "6b3bd121-cc64-4607-8cd7-f495500447a0"
      },
      "source": [
        "class_mapping = {label:idx for idx,label in enumerate(np.unique(df['classlabel']))}\n",
        "class_mapping"
      ],
      "execution_count": null,
      "outputs": [
        {
          "output_type": "execute_result",
          "data": {
            "text/plain": [
              "{'class1': 0, 'class2': 1}"
            ]
          },
          "metadata": {
            "tags": []
          },
          "execution_count": 9
        }
      ]
    },
    {
      "cell_type": "code",
      "metadata": {
        "id": "maVzb0_RUbLG",
        "colab_type": "code",
        "colab": {
          "base_uri": "https://localhost:8080/",
          "height": 141
        },
        "outputId": "8918bc60-8a8c-410f-c8ca-b6f69c4f14ad"
      },
      "source": [
        "df['classlabel'] = df['classlabel'].map(class_mapping)\n",
        "df"
      ],
      "execution_count": null,
      "outputs": [
        {
          "output_type": "execute_result",
          "data": {
            "text/html": [
              "<div>\n",
              "<style scoped>\n",
              "    .dataframe tbody tr th:only-of-type {\n",
              "        vertical-align: middle;\n",
              "    }\n",
              "\n",
              "    .dataframe tbody tr th {\n",
              "        vertical-align: top;\n",
              "    }\n",
              "\n",
              "    .dataframe thead th {\n",
              "        text-align: right;\n",
              "    }\n",
              "</style>\n",
              "<table border=\"1\" class=\"dataframe\">\n",
              "  <thead>\n",
              "    <tr style=\"text-align: right;\">\n",
              "      <th></th>\n",
              "      <th>color</th>\n",
              "      <th>size</th>\n",
              "      <th>price</th>\n",
              "      <th>classlabel</th>\n",
              "    </tr>\n",
              "  </thead>\n",
              "  <tbody>\n",
              "    <tr>\n",
              "      <th>0</th>\n",
              "      <td>green</td>\n",
              "      <td>1</td>\n",
              "      <td>10.1</td>\n",
              "      <td>0</td>\n",
              "    </tr>\n",
              "    <tr>\n",
              "      <th>1</th>\n",
              "      <td>red</td>\n",
              "      <td>2</td>\n",
              "      <td>13.5</td>\n",
              "      <td>1</td>\n",
              "    </tr>\n",
              "    <tr>\n",
              "      <th>2</th>\n",
              "      <td>blue</td>\n",
              "      <td>3</td>\n",
              "      <td>15.3</td>\n",
              "      <td>0</td>\n",
              "    </tr>\n",
              "  </tbody>\n",
              "</table>\n",
              "</div>"
            ],
            "text/plain": [
              "   color  size  price  classlabel\n",
              "0  green     1   10.1           0\n",
              "1    red     2   13.5           1\n",
              "2   blue     3   15.3           0"
            ]
          },
          "metadata": {
            "tags": []
          },
          "execution_count": 10
        }
      ]
    },
    {
      "cell_type": "code",
      "metadata": {
        "id": "ZDTNO7QdUhX1",
        "colab_type": "code",
        "colab": {
          "base_uri": "https://localhost:8080/",
          "height": 36
        },
        "outputId": "45b1e53d-4f2d-468c-c21e-4e161ca55f0e"
      },
      "source": [
        "# 다른방법으로 사이킷런에 구현된 LabelEncoder를 사용하면 편리하다\n",
        "class_le = LabelEncoder()\n",
        "y = class_le.fit_transform(df['classlabel'].values)\n",
        "y\n",
        "# LabelEncoder 전으로 돌아가고 싶으면 다음을 실행하면 된다.\n",
        "#class_le.inverse_transform(y)"
      ],
      "execution_count": null,
      "outputs": [
        {
          "output_type": "execute_result",
          "data": {
            "text/plain": [
              "array([0, 1, 0])"
            ]
          },
          "metadata": {
            "tags": []
          },
          "execution_count": 11
        }
      ]
    },
    {
      "cell_type": "markdown",
      "metadata": {
        "id": "r69l5UwRVS8z",
        "colab_type": "text"
      },
      "source": [
        "## 순서가 없는 특성에 One-Hot Encoding 적용"
      ]
    },
    {
      "cell_type": "code",
      "metadata": {
        "id": "whv_ErTVUhVn",
        "colab_type": "code",
        "colab": {
          "base_uri": "https://localhost:8080/",
          "height": 73
        },
        "outputId": "2294f7f7-33a1-440c-b7e5-51f2827a09c1"
      },
      "source": [
        "X = df[['color', 'size', 'price']].values\n",
        "color_le = LabelEncoder()\n",
        "X[:,0] = color_le.fit_transform(X[:,0])\n",
        "X\n",
        "# blue = 0, green = 1, red = 2"
      ],
      "execution_count": null,
      "outputs": [
        {
          "output_type": "execute_result",
          "data": {
            "text/plain": [
              "array([[1, 1, 10.1],\n",
              "       [2, 2, 13.5],\n",
              "       [0, 3, 15.3]], dtype=object)"
            ]
          },
          "metadata": {
            "tags": []
          },
          "execution_count": 12
        }
      ]
    },
    {
      "cell_type": "markdown",
      "metadata": {
        "id": "mcM8MKNhdGWR",
        "colab_type": "text"
      },
      "source": [
        "- LabelEncoder는 타깃 레이블을 인코딩하기 위한 클래스이므로 입력 데이터로 1차원 배열을 기대한다.\n",
        "- 데이터셋에 변경해야 할 열이 많다면 동일한 작업을반복해야 하므로 번거롭다. 사이킷런 에서는 범주형 데이터를 정수로 인코딩하는 OrdinalEncoder와 판다스 데이터프레임의 열마다 다른 변환을 적용하도록 도와주는 ColumnTransformer가 추가되었다. 이 두 클래스를 이용하면 여러 개의 열을 한 번에 변환할 수 있다.\n",
        "\n",
        "- 여기서 주의할 점은 OrdinalEncoder는 순서가 없는 범주형 특성을 정수로 변환하는 클래스이다"
      ]
    },
    {
      "cell_type": "code",
      "metadata": {
        "id": "XDbr8SHxUhNF",
        "colab_type": "code",
        "colab": {
          "base_uri": "https://localhost:8080/",
          "height": 73
        },
        "outputId": "18fdea64-fd54-449f-eeb6-24f4b136e787"
      },
      "source": [
        "ord_enc = OrdinalEncoder(dtype=np.int)\n",
        "col_trans = ColumnTransformer([('ord_enc', ord_enc,['color'])])\n",
        "# ColumnTransformer는 첫 번째 매개변수로 트랜스포머(transformer)의 리스트를 받는다. 트랜스포머는 이름, 변환기, 변환할 리스트로 이루어진 튜플이다.\n",
        "# 여기서 이름은 ord_enc, 변환기는 OrdinalEncoder, 변환할 열은 color 하나를 지정했다.\n",
        "# 결과에서 알 수 있듯 color 열이 정수 값으로 변환되었다.\n",
        "X_trans = col_trans.fit_transform(df)\n",
        "X_trans"
      ],
      "execution_count": null,
      "outputs": [
        {
          "output_type": "execute_result",
          "data": {
            "text/plain": [
              "array([[1],\n",
              "       [2],\n",
              "       [0]])"
            ]
          },
          "metadata": {
            "tags": []
          },
          "execution_count": 13
        }
      ]
    },
    {
      "cell_type": "code",
      "metadata": {
        "id": "_kSOVyxOeYcU",
        "colab_type": "code",
        "colab": {
          "base_uri": "https://localhost:8080/",
          "height": 73
        },
        "outputId": "1bb67a0a-abf4-42d3-9a18-c7a5ad5253fc"
      },
      "source": [
        "# 위 코드에서 LabelEncoding을 진행 했을때, color값에 대소구분이 생길 수 있다.\n",
        "# 이러한 문제를 해결하기위해 원핫인코딩을 진행한다.\n",
        "# 순서 없는 특성에 들어 있는 고유값마다 새로운 더미(dummy) 특성을 만드는 것이다.\n",
        "ohe = OneHotEncoder(categories='auto')\n",
        "col_trans = ColumnTransformer([('ohe',ohe,[0])], remainder='passthrough')\n",
        "col_trans.fit_transform(X)"
      ],
      "execution_count": null,
      "outputs": [
        {
          "output_type": "execute_result",
          "data": {
            "text/plain": [
              "array([[0.0, 1.0, 0.0, 1, 10.1],\n",
              "       [0.0, 0.0, 1.0, 2, 13.5],\n",
              "       [1.0, 0.0, 0.0, 3, 15.3]], dtype=object)"
            ]
          },
          "metadata": {
            "tags": []
          },
          "execution_count": 14
        }
      ]
    },
    {
      "cell_type": "code",
      "metadata": {
        "id": "8jW8ZoSjeYZ6",
        "colab_type": "code",
        "colab": {
          "base_uri": "https://localhost:8080/",
          "height": 141
        },
        "outputId": "a72f3240-cd4a-417f-ba2d-e6796c7d1b05"
      },
      "source": [
        "# 원-핫 인코딩을 더미 변수를 만드는 더 편리한 방법은 판다스의 get_dummies 메서드를 사용하는 것이다.\n",
        "# get_dummies는 문자열만 반환하고 나머지 열은 그대로 둔다.\n",
        "pd.get_dummies(df[['price','color','size']])"
      ],
      "execution_count": null,
      "outputs": [
        {
          "output_type": "execute_result",
          "data": {
            "text/html": [
              "<div>\n",
              "<style scoped>\n",
              "    .dataframe tbody tr th:only-of-type {\n",
              "        vertical-align: middle;\n",
              "    }\n",
              "\n",
              "    .dataframe tbody tr th {\n",
              "        vertical-align: top;\n",
              "    }\n",
              "\n",
              "    .dataframe thead th {\n",
              "        text-align: right;\n",
              "    }\n",
              "</style>\n",
              "<table border=\"1\" class=\"dataframe\">\n",
              "  <thead>\n",
              "    <tr style=\"text-align: right;\">\n",
              "      <th></th>\n",
              "      <th>price</th>\n",
              "      <th>size</th>\n",
              "      <th>color_blue</th>\n",
              "      <th>color_green</th>\n",
              "      <th>color_red</th>\n",
              "    </tr>\n",
              "  </thead>\n",
              "  <tbody>\n",
              "    <tr>\n",
              "      <th>0</th>\n",
              "      <td>10.1</td>\n",
              "      <td>1</td>\n",
              "      <td>0</td>\n",
              "      <td>1</td>\n",
              "      <td>0</td>\n",
              "    </tr>\n",
              "    <tr>\n",
              "      <th>1</th>\n",
              "      <td>13.5</td>\n",
              "      <td>2</td>\n",
              "      <td>0</td>\n",
              "      <td>0</td>\n",
              "      <td>1</td>\n",
              "    </tr>\n",
              "    <tr>\n",
              "      <th>2</th>\n",
              "      <td>15.3</td>\n",
              "      <td>3</td>\n",
              "      <td>1</td>\n",
              "      <td>0</td>\n",
              "      <td>0</td>\n",
              "    </tr>\n",
              "  </tbody>\n",
              "</table>\n",
              "</div>"
            ],
            "text/plain": [
              "   price  size  color_blue  color_green  color_red\n",
              "0   10.1     1           0            1          0\n",
              "1   13.5     2           0            0          1\n",
              "2   15.3     3           1            0          0"
            ]
          },
          "metadata": {
            "tags": []
          },
          "execution_count": 15
        }
      ]
    },
    {
      "cell_type": "markdown",
      "metadata": {
        "id": "lQBWQDDHsePN",
        "colab_type": "text"
      },
      "source": [
        "- 원-핫 인코딩된 데이터셋을 사용할 때 **다중 공선성** 문제를 유념해야 한다.\n",
        "- 특성 간의 상관관계가 높으면 역행렬을 계산하기 어려워 수치적으로 불안정해진다. 변수 간의 상관관계를 감소하려면 원-핫 인코딩된 배열에서 특성 열 하나를 삭제한다.\n",
        "- 이렇게 특성을 삭제해도 잃는 정보는 없다.\n",
        "- 예를 들어 color_blue 열을 삭제해도 샘플이 color_green = 0 이고 color_red = 0 일 떄 blue임을 알 수 있다."
      ]
    },
    {
      "cell_type": "code",
      "metadata": {
        "id": "bqxAZuaWsd3g",
        "colab_type": "code",
        "colab": {
          "base_uri": "https://localhost:8080/",
          "height": 141
        },
        "outputId": "732f131f-91b0-4711-ebd5-65674a26cf1a"
      },
      "source": [
        "# get_dummies를 사용할 때 drop_first 매개변수를 True로 지정하여 첫 번째 열을 삭제할 수 있다.\n",
        "pd.get_dummies(df[['price','color','size']], drop_first = True)"
      ],
      "execution_count": null,
      "outputs": [
        {
          "output_type": "execute_result",
          "data": {
            "text/html": [
              "<div>\n",
              "<style scoped>\n",
              "    .dataframe tbody tr th:only-of-type {\n",
              "        vertical-align: middle;\n",
              "    }\n",
              "\n",
              "    .dataframe tbody tr th {\n",
              "        vertical-align: top;\n",
              "    }\n",
              "\n",
              "    .dataframe thead th {\n",
              "        text-align: right;\n",
              "    }\n",
              "</style>\n",
              "<table border=\"1\" class=\"dataframe\">\n",
              "  <thead>\n",
              "    <tr style=\"text-align: right;\">\n",
              "      <th></th>\n",
              "      <th>price</th>\n",
              "      <th>size</th>\n",
              "      <th>color_green</th>\n",
              "      <th>color_red</th>\n",
              "    </tr>\n",
              "  </thead>\n",
              "  <tbody>\n",
              "    <tr>\n",
              "      <th>0</th>\n",
              "      <td>10.1</td>\n",
              "      <td>1</td>\n",
              "      <td>1</td>\n",
              "      <td>0</td>\n",
              "    </tr>\n",
              "    <tr>\n",
              "      <th>1</th>\n",
              "      <td>13.5</td>\n",
              "      <td>2</td>\n",
              "      <td>0</td>\n",
              "      <td>1</td>\n",
              "    </tr>\n",
              "    <tr>\n",
              "      <th>2</th>\n",
              "      <td>15.3</td>\n",
              "      <td>3</td>\n",
              "      <td>0</td>\n",
              "      <td>0</td>\n",
              "    </tr>\n",
              "  </tbody>\n",
              "</table>\n",
              "</div>"
            ],
            "text/plain": [
              "   price  size  color_green  color_red\n",
              "0   10.1     1            1          0\n",
              "1   13.5     2            0          1\n",
              "2   15.3     3            0          0"
            ]
          },
          "metadata": {
            "tags": []
          },
          "execution_count": 45
        }
      ]
    },
    {
      "cell_type": "code",
      "metadata": {
        "id": "BsSu82YpeYQU",
        "colab_type": "code",
        "colab": {
          "base_uri": "https://localhost:8080/",
          "height": 148
        },
        "outputId": "6ff33cf1-1ec4-4b0b-e30f-206aa4826355"
      },
      "source": [
        "# OneHotEncoder는 열을 삭제하는 매개변수가 없으므로, array를 슬라이싱 해야한다.\n",
        "ohe = OneHotEncoder(categories='auto')\n",
        "ohe.fit_transform(X).toarray()[:, 1:]"
      ],
      "execution_count": null,
      "outputs": [
        {
          "output_type": "execute_result",
          "data": {
            "text/plain": [
              "array([[0., 0., 0., ..., 0., 0., 0.],\n",
              "       [0., 0., 0., ..., 0., 0., 0.],\n",
              "       [0., 0., 0., ..., 0., 0., 0.],\n",
              "       ...,\n",
              "       [0., 0., 0., ..., 0., 0., 0.],\n",
              "       [0., 0., 0., ..., 0., 0., 0.],\n",
              "       [0., 0., 0., ..., 0., 0., 0.]])"
            ]
          },
          "metadata": {
            "tags": []
          },
          "execution_count": 48
        }
      ]
    },
    {
      "cell_type": "markdown",
      "metadata": {
        "id": "WxJKet3LhQMo",
        "colab_type": "text"
      },
      "source": [
        "### Train set , Test set 나누기"
      ]
    },
    {
      "cell_type": "code",
      "metadata": {
        "id": "vosBQSDehXvB",
        "colab_type": "code",
        "colab": {}
      },
      "source": [
        "df_wine = pd.read_csv('https://archive.ics.uci.edu/ml/machine-learning-databases/wine/wine.data', header = None)\n",
        "df_wine.columns = ['Class label', 'Alcohol', 'Malic acid', 'Ash', 'Alcalinity of ash', 'Magnesium', 'Total phenols', 'Flavanoids','Nonflavanoid phenols','Proanthocyanins', 'Color intensity', 'Hue', 'OD280/OD315 of diluted wines', 'Proline']"
      ],
      "execution_count": null,
      "outputs": []
    },
    {
      "cell_type": "code",
      "metadata": {
        "id": "V8xXzRRmhXsY",
        "colab_type": "code",
        "colab": {}
      },
      "source": [
        "X,y = df_wine.iloc[:,1:].values, df_wine.iloc[:,0].values"
      ],
      "execution_count": null,
      "outputs": []
    },
    {
      "cell_type": "code",
      "metadata": {
        "id": "8XLZGW7ChXpU",
        "colab_type": "code",
        "colab": {}
      },
      "source": [
        "X_train,X_test,y_train, y_test = train_test_split(X,y,test_size = 0.3, random_state = 0, stratify = y)\n",
        "# train과 test set의 비율을 7:3으로 맞췄고, stratify = y로 하면 train과 test의 label 비율을 동일하게 나눠줌"
      ],
      "execution_count": null,
      "outputs": []
    },
    {
      "cell_type": "markdown",
      "metadata": {
        "id": "uw4khKr8u_og",
        "colab_type": "text"
      },
      "source": [
        "### 특성 스케일 맞추기\n",
        "- 두개의 특성에서 첫번째 특성이 [1,10]사이의 값이고, 두번째 특성이 [1,10만] 사이의 값일때 아달린은 큰 오차에 맞추어 가중치를 최적화 할것이고, knn은 샘플간의 거리를 계산하므로 두번째 특성 축에 좌우 될것이다.\n",
        "\n",
        "- 이러한 문제를 해결하고자 특성 스케일을 맞추는데 대표적으로 정규화(Normalization)와 표준화(Standardization)이 있다.\n",
        "\n",
        "- 대부분 정규화는 특성의 스케일을 [0,1]범위에 맞추는 것을 의미한다.\n",
        "- MinMaxScaler는 데이터셋에 비정상적으로 아주 큰 값이나 아주 작은 값이 들어 있을 때 다른 샘플들을 좁은 구간에 촘촘하게 모으게 만든다.\n",
        "- 최소-최대 스케일 변환(min-max scaling)은 다음과 같이 진행된다"
      ]
    },
    {
      "cell_type": "code",
      "metadata": {
        "id": "A8iMnx5BtYv1",
        "colab_type": "code",
        "colab": {}
      },
      "source": [
        "mms = MinMaxScaler()\n",
        "X_train_norm = mms.fit_transform(X_train)\n",
        "X_test_norm = mms.transform(X_test)\n",
        "# MinMaxScaler를 통한 정규화는 범위가 정해진 값이 필요할 때 유용하게 사용할 수 있는 일반적인 기법이다."
      ],
      "execution_count": null,
      "outputs": []
    },
    {
      "cell_type": "markdown",
      "metadata": {
        "id": "WdLCv7b9wf5P",
        "colab_type": "text"
      },
      "source": [
        "- 표준화를 사용하면 특성의 평균을 0에 맞추고 표준편차를 1로 만들어 정규 분포와 같은 특징을 가지도록 만든다. 이는 가중치를 더 쉽게 학습할 수 있도록 만든다.\n",
        "- 표준화는 이상치 정보가 유지되기 때문에 제한된 범위로 데이터를 조정하는 MinMaxScale변환에 비해 알고리즘이 이상치에 덜 민감하다.\n",
        "- 표준화와 정규화는 아래와 같이 진행한다."
      ]
    },
    {
      "cell_type": "code",
      "metadata": {
        "id": "MNmloTIihXm1",
        "colab_type": "code",
        "colab": {
          "base_uri": "https://localhost:8080/",
          "height": 55
        },
        "outputId": "63050e3b-1289-4f67-8ba4-58963394e3c0"
      },
      "source": [
        "ex = np.array([0,1,2,3,4,5])\n",
        "print('표준화:', (ex - ex.mean())/(ex.std()))\n",
        "print('정규화:', (ex - ex.min())/(ex.max() - ex.min() ))"
      ],
      "execution_count": null,
      "outputs": [
        {
          "output_type": "stream",
          "text": [
            "표준화: [-1.46385011 -0.87831007 -0.29277002  0.29277002  0.87831007  1.46385011]\n",
            "정규화: [0.  0.2 0.4 0.6 0.8 1. ]\n"
          ],
          "name": "stdout"
        }
      ]
    },
    {
      "cell_type": "markdown",
      "metadata": {
        "id": "cMkgYc7Bx2Wa",
        "colab_type": "text"
      },
      "source": [
        "- MinMaxScaler와 비슷한 표준화를 위한 클래스도 제공한다."
      ]
    },
    {
      "cell_type": "code",
      "metadata": {
        "id": "cuuaMs9GhXhn",
        "colab_type": "code",
        "colab": {
          "base_uri": "https://localhost:8080/",
          "height": 284
        },
        "outputId": "9d3ed813-b4a1-4824-f240-97ce760ff057"
      },
      "source": [
        "stdsc = StandardScaler()\n",
        "X_train_std = stdsc.fit_transform(X_train)\n",
        "X_test_std = stdsc.transform(X_test)\n",
        "sns.distplot(X_test_std)"
      ],
      "execution_count": null,
      "outputs": [
        {
          "output_type": "execute_result",
          "data": {
            "text/plain": [
              "<matplotlib.axes._subplots.AxesSubplot at 0x7f7380688438>"
            ]
          },
          "metadata": {
            "tags": []
          },
          "execution_count": 21
        },
        {
          "output_type": "display_data",
          "data": {
            "image/png": "[encoded data removed]",
            "text/plain": [
              "<Figure size 432x288 with 1 Axes>"
            ]
          },
          "metadata": {
            "tags": [],
            "needs_background": "light"
          }
        }
      ]
    },
    {
      "cell_type": "markdown",
      "metadata": {
        "id": "ZMQ_nsd5ypHj",
        "colab_type": "text"
      },
      "source": [
        "# 유용한 특성 선택\n",
        "- 모델이 test set보다 train set에서 성능이 높다면 Overfitting에 대한 강력한 신호이다.\n",
        "\n",
        "- 과대적합의 이유는 주어진 훈련 데이터에 비해 모댈이 너무 복잡하기 때문이다. 일반화 오차를 감소시키기 위해 많이 사용하는 방법은 다음과 같다.\n",
        "-- 더 많은 훈련 데이터를 모은다\n",
        "-- 규제를 통해  모델 복잡도를 제한한다.\n",
        "-- 파라미터 개수가 적은 간단한 모델을 선택한다.\n",
        "-- 데이터 차원을 줄인다.\n",
        "\n",
        "- 이번에는 모델 복잡도 제한을 위해 L1규제와 L2 규제를 알아보도록 한다.\n",
        "자세한 내용은 https://kolikim.tistory.com/50 를 참고한다"
      ]
    },
    {
      "cell_type": "code",
      "metadata": {
        "id": "ssWjuEHXyr-c",
        "colab_type": "code",
        "colab": {
          "base_uri": "https://localhost:8080/",
          "height": 55
        },
        "outputId": "b88b6eb9-16eb-42c5-8c2a-114ed1f9a534"
      },
      "source": [
        "# 사이킷런에서 L1 규제를 지원하는 모델은 Penalty 매개변수를 'l1'으로 지정하여 희소한 모델을 만들 수 있다.\n",
        "# LogisticRegression 클래스의 solver 중 lbfgs, newton-cg, sag는 L2 규제만 지원한다. saga, liblinear는 L1, L2 규제를 모두 지원한다.\n",
        "lr = LogisticRegression(solver = 'liblinear', multi_class = 'auto', penalty='l1', C = 1.0, random_state= 42)\n",
        "lr.fit(X_train_std, y_train)\n",
        "print('훈련 정확도:', lr.score(X_train_std, y_train))\n",
        "print('테스트 정확도:', lr.score(X_test_std, y_test))"
      ],
      "execution_count": null,
      "outputs": [
        {
          "output_type": "stream",
          "text": [
            "훈련 정확도: 1.0\n",
            "테스트 정확도: 1.0\n"
          ],
          "name": "stdout"
        }
      ]
    },
    {
      "cell_type": "code",
      "metadata": {
        "id": "ZGjJuywQyseV",
        "colab_type": "code",
        "colab": {
          "base_uri": "https://localhost:8080/",
          "height": 36
        },
        "outputId": "9eb949c0-8031-4ee6-8583-cd4c979a62b3"
      },
      "source": [
        "# 절편을 확인해보기 위해 intercept로 세 개의 값이 들어있는 배열을 확인\n",
        "# 첫 번째 절편은 클래스 1을 클래스 2,3과 구분하는 모델의 절편\n",
        "# 두 번째 절편은 클래스 2를 클래스 1,3과 구분하는 모델의 절편\n",
        "# 세 번째 절편은 클래스 3을 클래스 1,2와 구분하는 모델의 절편\n",
        "lr.intercept_"
      ],
      "execution_count": null,
      "outputs": [
        {
          "output_type": "execute_result",
          "data": {
            "text/plain": [
              "array([-1.26341605, -1.21598985, -2.3701943 ])"
            ]
          },
          "metadata": {
            "tags": []
          },
          "execution_count": 23
        }
      ]
    },
    {
      "cell_type": "code",
      "metadata": {
        "id": "eg9A8c8Eysb1",
        "colab_type": "code",
        "colab": {
          "base_uri": "https://localhost:8080/",
          "height": 185
        },
        "outputId": "10dfda26-df9b-46e1-de00-d59b5c60c11a"
      },
      "source": [
        "# coef 속성에 있는 가중치는 클래스마다 벡터 하나씩 세 새의 행이 있는 가중치 배열이다.\n",
        "# 각 행은 13개의 가중치를 갖는다. 각 가중치와 13차원의 Wine데이터셋의 특성을 곱해 최종입력을 계산한다.\n",
        "lr.coef_"
      ],
      "execution_count": null,
      "outputs": [
        {
          "output_type": "execute_result",
          "data": {
            "text/plain": [
              "array([[ 1.24579421,  0.18061164,  0.74359352, -1.16112462,  0.        ,\n",
              "         0.        ,  1.16957619,  0.        ,  0.        ,  0.        ,\n",
              "         0.        ,  0.54788874,  2.51037422],\n",
              "       [-1.53699942, -0.38746609, -0.99525191,  0.36498543, -0.05970899,\n",
              "         0.        ,  0.6678873 ,  0.        ,  0.        , -1.93417045,\n",
              "         1.23366592,  0.        , -2.23177895],\n",
              "       [ 0.13562632,  0.16843221,  0.3572171 ,  0.        ,  0.        ,\n",
              "         0.        , -2.43829335,  0.        ,  0.        ,  1.56374546,\n",
              "        -0.81900707, -0.49232727,  0.        ]])"
            ]
          },
          "metadata": {
            "tags": []
          },
          "execution_count": 24
        }
      ]
    },
    {
      "cell_type": "markdown",
      "metadata": {
        "id": "obAUhpcuBAue",
        "colab_type": "text"
      },
      "source": [
        "- L1 규제는 결과적으로 데이터셋에 관련이 적은 특성이 있더라도 견고한 모델을 만들어준다.\n",
        "- 앞 예제에서 가중치 벡터는 0이 아닌 원소가 많기 때문에 꼭 희소하지 않다. 규제 강도를 높여 희소성을 더 강하게 할 수 있다(0인 원소가 더 많아짐) 즉 C값을 낮추는것\n"
      ]
    },
    {
      "cell_type": "code",
      "metadata": {
        "id": "ymsj1hHUysZW",
        "colab_type": "code",
        "colab": {
          "base_uri": "https://localhost:8080/",
          "height": 304
        },
        "outputId": "acfe7c2c-b60d-4272-c95a-e1318f882351"
      },
      "source": [
        "# 규제 강도를 달리하여 특성의 가중치 변화를 그래프로 그려보자\n",
        "fig = plt.figure()\n",
        "ax = plt.subplot(111)\n",
        "\n",
        "colors = ['blue', 'green', 'red', 'cyan', 'magenta', 'yellow', 'black', 'pink', 'lightgreen', 'lightblue', 'gray', 'indigo', 'orange']\n",
        "weights, params = [], []\n",
        "\n",
        "for c in np.arange(-4.,6.):\n",
        "  lr = LogisticRegression(solver = 'liblinear', multi_class = 'auto', penalty='l1', C = 10.**c, random_state=0)\n",
        "  lr.fit(X_train_std, y_train)\n",
        "  weights.append(lr.coef_[1])\n",
        "  params.append(10**c)\n",
        "\n",
        "weights = np.array(weights)\n",
        "\n",
        "for column, color in zip(range(weights.shape[1]), colors):\n",
        "  plt.plot(params, weights[:,column],\n",
        "           label = df_wine.columns[column+1],\n",
        "           color = color)\n",
        "plt.axhline(0, color = 'black', linestyle = '--', linewidth = 3)\n",
        "plt.xlim([10**(-5), 10**5])\n",
        "plt.ylabel('weight coefficient')\n",
        "plt.xlabel('C')\n",
        "plt.xscale('log')\n",
        "plt.legend(loc = 'upper left')\n",
        "ax.legend(loc = 'upper center', bbox_to_anchor = (1.38, 1.03), ncol = 1, fancybox = True)"
      ],
      "execution_count": null,
      "outputs": [
        {
          "output_type": "execute_result",
          "data": {
            "text/plain": [
              "<matplotlib.legend.Legend at 0x7f737fcd9d30>"
            ]
          },
          "metadata": {
            "tags": []
          },
          "execution_count": 25
        },
        {
          "output_type": "display_data",
          "data": {
            "image/png": "[encoded data removed]",
            "text/plain": [
              "<Figure size 432x288 with 1 Axes>"
            ]
          },
          "metadata": {
            "tags": [],
            "needs_background": "light"
          }
        }
      ]
    },
    {
      "cell_type": "markdown",
      "metadata": {
        "id": "N7B6QHBKDmxa",
        "colab_type": "text"
      },
      "source": [
        " - 위 그림에서 확인할 수 있듯이 강한 규제 파라미터(C<0.1)로 모델을 제약하면 모든 가중치가 0이 된다"
      ]
    },
    {
      "cell_type": "markdown",
      "metadata": {
        "id": "3NiqBOurEtHU",
        "colab_type": "text"
      },
      "source": [
        "# 순차 특성 선택 알고리즘\n",
        "- 모델 복잡도를 줄이고 과대적합을 피하는 다른 방법은 특성 선택을 통한 **차원 축소(Demensionality reduction)**이다. 규제가 없는모델에서 특히 유용하다,\n",
        "- 차원 축소 기법에는 두 개의 주요 카테고리인 **특성 선택(Feature selection)**과 **특성 추출(Feature extraction)**이 있다.\n",
        "\n",
        "- 지금부터 전통적인 특성 선택 알고리즘을 살펴보자\n",
        "- 순차 특성 선택 알고리즘은 탐욕적 탐색 알고리즘(greedy search algorithm)으로 초기 d 차원의 특성 공간을 k < d인 k 차원의 특성 부분 공간으로 축소한다. 특성 선택 알고리즘은 주어진 문제에 가장 관련이 높은 특성 부분 집합을 자동으로 선택하는 것이 목적이다.\n",
        "\n",
        "- 즉 관계없는 특성이나 잡음을 제거하여 계산 효율성을 높이고 모델의 일반화 오차를 줄인다. **규제를 제공하지 않는 알고리즘**을 사용할 때 유용하다\n",
        "\n",
        "- 전통적인 순차 특성 선택 알고리즘은 순차 후진 선택(Sequentail Backward Selection, SBS)이다.\n",
        "- 계산 효율성을 향상하기 위해 모델 성능을 가능한 적게 희생하면서 초기 특성의 부분공간으로 차원을 축소한다. 과대적합의 문제를 안고 있는 모델이라면 SBS가 예측 성능을 높일 수도 있을것이다.\n",
        "- SBS의 아이디어는 매우 간단하다. 새로운 특성의 부분 공간이 목표하는 특성 개수가 될 때까지 전체 특성에서 순차적으로 특성을 제거한다. 쉽게 말하면 각 단계에서 제거했을 때 성능 손실이 최대가 되는 특성을 제거한다.\n",
        "- SBS의 4단계는 여기선 생략한다."
      ]
    },
    {
      "cell_type": "code",
      "metadata": {
        "id": "bHbiIc4TysSq",
        "colab_type": "code",
        "colab": {}
      },
      "source": [
        "# SBS는 시이킷런에 구현되어있지 않다. 그러므로 직접 작성한다\n",
        "class SBS():\n",
        "    def __init__(self, estimator, k_features, scoring=accuracy_score,\n",
        "                 test_size=0.25, random_state=1):\n",
        "        self.scoring = scoring\n",
        "        self.estimator = clone(estimator)\n",
        "        self.k_features = k_features\n",
        "        self.test_size = test_size\n",
        "        self.random_state = random_state\n",
        "\n",
        "    def fit(self, X, y):\n",
        "        \n",
        "        X_train, X_test, y_train, y_test = \\\n",
        "            train_test_split(X, y, test_size=self.test_size,\n",
        "                             random_state=self.random_state)\n",
        "\n",
        "        dim = X_train.shape[1]\n",
        "        self.indices_ = tuple(range(dim))\n",
        "        self.subsets_ = [self.indices_]\n",
        "        score = self._calc_score(X_train, y_train, \n",
        "                                 X_test, y_test, self.indices_)\n",
        "        self.scores_ = [score]\n",
        "\n",
        "        while dim > self.k_features:\n",
        "            scores = []\n",
        "            subsets = []\n",
        "\n",
        "            for p in combinations(self.indices_, r=dim - 1):\n",
        "                score = self._calc_score(X_train, y_train, \n",
        "                                         X_test, y_test, p)\n",
        "                scores.append(score)\n",
        "                subsets.append(p)\n",
        "\n",
        "            best = np.argmax(scores)\n",
        "            self.indices_ = subsets[best]\n",
        "            self.subsets_.append(self.indices_)\n",
        "            dim -= 1\n",
        "\n",
        "            self.scores_.append(scores[best])\n",
        "        self.k_score_ = self.scores_[-1]\n",
        "\n",
        "        return self\n",
        "\n",
        "    def transform(self, X):\n",
        "        return X[:, self.indices_]\n",
        "\n",
        "    def _calc_score(self, X_train, y_train, X_test, y_test, indices):\n",
        "        self.estimator.fit(X_train[:, indices], y_train)\n",
        "        y_pred = self.estimator.predict(X_test[:, indices])\n",
        "        score = self.scoring(y_test, y_pred)\n",
        "        return score"
      ],
      "execution_count": null,
      "outputs": []
    },
    {
      "cell_type": "code",
      "metadata": {
        "id": "5sg3jldhysEl",
        "colab_type": "code",
        "colab": {
          "base_uri": "https://localhost:8080/",
          "height": 36
        },
        "outputId": "4c39a912-67ee-4733-94e6-1480aa6ab0de"
      },
      "source": [
        "# SBS 알고리즘이 잘 작동하는지 KNN을 이용해 확인해보자\n",
        "\n",
        "knn = KNeighborsClassifier(n_neighbors=5)\n",
        "sbs = SBS(knn, k_features=1)\n",
        "sbs.fit(X_train_std, y_train)"
      ],
      "execution_count": null,
      "outputs": [
        {
          "output_type": "execute_result",
          "data": {
            "text/plain": [
              "<__main__.SBS at 0x7f737cf93c50>"
            ]
          },
          "metadata": {
            "tags": []
          },
          "execution_count": 30
        }
      ]
    },
    {
      "cell_type": "markdown",
      "metadata": {
        "id": "B4kSRnmUc-1X",
        "colab_type": "text"
      },
      "source": [
        "- SBS의 fit 메서드에서 데이터셋을 train, test 로 나누지만 train set만 넣어 score를 계산한다\n",
        "- SBS의 fit 메서드는 훈련과 테스트(검증)를 위한 새로운 부분 세트를 만든다. 여기서 test set를 **검증 세트(validation set)**라고도 부른다."
      ]
    },
    {
      "cell_type": "code",
      "metadata": {
        "id": "Zw-97orAysCa",
        "colab_type": "code",
        "colab": {
          "base_uri": "https://localhost:8080/",
          "height": 279
        },
        "outputId": "22a76e81-ac2a-4e74-cb6f-7ac973af4584"
      },
      "source": [
        "k_feat = [len(k) for k in sbs.subsets_]\n",
        "\n",
        "plt.plot(k_feat, sbs.scores_, marker = 'o')\n",
        "plt.ylim([0.7, 1.02])\n",
        "plt.ylabel('Accuracy')\n",
        "plt.xlabel('Number of features')\n",
        "plt.grid()\n",
        "# 아래 그림에서 볼 수 있듯이 특성 개수가 줄었을 때 검증 세트에서 KNN분류기이 정확도가 향상되었다.\n",
        "# 차원의 저주가 감소하기 때문임"
      ],
      "execution_count": null,
      "outputs": [
        {
          "output_type": "display_data",
          "data": {
            "image/png": "[encoded data removed]",
            "text/plain": [
              "<Figure size 432x288 with 1 Axes>"
            ]
          },
          "metadata": {
            "tags": [],
            "needs_background": "light"
          }
        }
      ]
    },
    {
      "cell_type": "code",
      "metadata": {
        "id": "ddW0TLAEeJ6g",
        "colab_type": "code",
        "colab": {
          "base_uri": "https://localhost:8080/",
          "height": 36
        },
        "outputId": "e6a80d4b-603b-40db-b088-da78ebbd5d35"
      },
      "source": [
        "# 가장 작은 개수의 조합(k=3)에서 높은 검증 세트 성능을 내는 특성이 어떤 것인지 확인해보자\n",
        "k3 = list(sbs.subsets_[10])\n",
        "print(df_wine.columns[1:][k3])\n"
      ],
      "execution_count": null,
      "outputs": [
        {
          "output_type": "stream",
          "text": [
            "Index(['Alcohol', 'Malic acid', 'OD280/OD315 of diluted wines'], dtype='object')\n"
          ],
          "name": "stdout"
        }
      ]
    },
    {
      "cell_type": "code",
      "metadata": {
        "id": "m8Ns_-cCeJ2t",
        "colab_type": "code",
        "colab": {
          "base_uri": "https://localhost:8080/",
          "height": 55
        },
        "outputId": "7b264e9f-ed4a-4ceb-9025-f9de95f77a8e"
      },
      "source": [
        "# 특성 추출을 하지 않았을 때 KNN의 성능을 확인해보자\n",
        "knn.fit(X_train_std, y_train)\n",
        "print('훈련 정확도:', knn.score(X_train_std, y_train))\n",
        "print('테스트 정확도:', knn.score(X_test_std, y_test))"
      ],
      "execution_count": null,
      "outputs": [
        {
          "output_type": "stream",
          "text": [
            "훈련 정확도: 0.967741935483871\n",
            "테스트 정확도: 0.9629629629629629\n"
          ],
          "name": "stdout"
        }
      ]
    },
    {
      "cell_type": "code",
      "metadata": {
        "id": "YexFMrHUeJyt",
        "colab_type": "code",
        "colab": {
          "base_uri": "https://localhost:8080/",
          "height": 55
        },
        "outputId": "c0364cf0-9e5e-4924-ba04-c3e5b70549e1"
      },
      "source": [
        "# 선택된 세 개의 특성에서 KNN 성능을 확인해보자\n",
        "knn.fit(X_train_std[:,k3], y_train)\n",
        "print('훈련 정확도:', knn.score(X_train_std[:,k3], y_train))\n",
        "print('테스트 정확도:', knn.score(X_test_std[:,k3], y_test))"
      ],
      "execution_count": null,
      "outputs": [
        {
          "output_type": "stream",
          "text": [
            "훈련 정확도: 0.9516129032258065\n",
            "테스트 정확도: 0.9259259259259259\n"
          ],
          "name": "stdout"
        }
      ]
    },
    {
      "cell_type": "markdown",
      "metadata": {
        "id": "0PNaisGaf6c-",
        "colab_type": "text"
      },
      "source": [
        "- Wine 데이터셋에 있는 원본 특성의 1/4보다 적은 특성을 사용했지만 테스트 세트의 예측 정확도는 조금만 감소하였다. 이 세 개의 특성에 담긴 판별 정보가 원래 데이터셋보다 적지 않다는뜻이다.\n",
        "- WIne 데이터셋은 작은 데이터셋이라는 점을 유념해야한다. 무작위성에 매우 민감하다. 즉, 데이터셋을 훈련 세트와 테스트 세트로 나눈 것과 다시 훈련 세트와 검증세트로 나누는 방식에 영향을 받는다.\n",
        "- 특성 개수를 줄여서 KNN 모델의 성능이 증가하지는 않았지만 데이터셋 크기를 줄였다. 데이터 수집 비용이 높은 실전 애플리케이션에서는 유용할 수 있다. 또한 특성 개수를 크게 줄였기 때문에 더 간단한 모델을 얻었고 해석하기도 쉽다."
      ]
    },
    {
      "cell_type": "markdown",
      "metadata": {
        "id": "8hwZb4engtNK",
        "colab_type": "text"
      },
      "source": [
        "# 랜덤 포레스트의 Feature Importance\n",
        "- 트리기반의 앙상블 모델에선 보통 변수 중요도를 제공해준다.\n",
        "- 트리기반 모델은 표준화나 정규화를 할 필요가 없다는 것을 꼭 기억하자"
      ]
    },
    {
      "cell_type": "code",
      "metadata": {
        "id": "SQcRzmf8eJtb",
        "colab_type": "code",
        "colab": {
          "base_uri": "https://localhost:8080/",
          "height": 687
        },
        "outputId": "21c7f82f-f919-4a23-8196-e9fe6a7d6729"
      },
      "source": [
        "feat_labels = df_wine.columns[1:]\n",
        "forest = RandomForestClassifier(n_estimators=500, random_state=1)\n",
        "forest.fit(X_train, y_train)\n",
        "importances = forest.feature_importances_\n",
        "indices = np.argsort(importances)[::-1]\n",
        "\n",
        "for f in range(X_train.shape[1]):\n",
        "    print(\"%2d) %-*s %f\" % (f + 1, 30, \n",
        "                            feat_labels[indices[f]], \n",
        "                            importances[indices[f]]))\n",
        "\n",
        "plt.title('Feature Importance')\n",
        "plt.bar(range(X_train.shape[1]), \n",
        "        importances[indices],\n",
        "        align='center')\n",
        "\n",
        "plt.xticks(range(X_train.shape[1]), \n",
        "           feat_labels[indices], rotation=90)\n",
        "plt.xlim([-1, X_train.shape[1]])"
      ],
      "execution_count": null,
      "outputs": [
        {
          "output_type": "stream",
          "text": [
            " 1) Proline                        0.185453\n",
            " 2) Flavanoids                     0.174751\n",
            " 3) Color intensity                0.143920\n",
            " 4) OD280/OD315 of diluted wines   0.136162\n",
            " 5) Alcohol                        0.118529\n",
            " 6) Hue                            0.058739\n",
            " 7) Total phenols                  0.050872\n",
            " 8) Magnesium                      0.031357\n",
            " 9) Malic acid                     0.025648\n",
            "10) Proanthocyanins                0.025570\n",
            "11) Alcalinity of ash              0.022366\n",
            "12) Nonflavanoid phenols           0.013354\n",
            "13) Ash                            0.013279\n"
          ],
          "name": "stdout"
        },
        {
          "output_type": "execute_result",
          "data": {
            "text/plain": [
              "(-1.0, 13.0)"
            ]
          },
          "metadata": {
            "tags": []
          },
          "execution_count": 38
        },
        {
          "output_type": "display_data",
          "data": {
            "image/png": "[encoded data removed]",
            "text/plain": [
              "<Figure size 432x288 with 1 Axes>"
            ]
          },
          "metadata": {
            "tags": [],
            "needs_background": "light"
          }
        }
      ]
    },
    {
      "cell_type": "markdown",
      "metadata": {
        "id": "w2IXbBZ6kUxj",
        "colab_type": "text"
      },
      "source": [
        "- 모델 해석을 중요하게 고려한다면 랜덤 포레스트 기법에서 언급할 만한 중요한 참고 사항이 있다.\n",
        "-- 두 개 이상의 특성이 매우 상관관계가 높다면 하나의 특성은 매우 높은 순위를 갖지만 다른 특성 정보는 완전히 잡아내지 못할 수 있다.\n",
        "-- 특성 중요도 값을 해석하는 것보다 모델의 예측 성능에만 관심이 있다면 이 문제를 신경 쓸 필요는 없다.\n"
      ]
    },
    {
      "cell_type": "code",
      "metadata": {
        "id": "8c67eySAeJqj",
        "colab_type": "code",
        "colab": {
          "base_uri": "https://localhost:8080/",
          "height": 36
        },
        "outputId": "0375a5eb-f5eb-4856-bc16-e355f404c151"
      },
      "source": [
        "# SelecFromModel에 관해 살펴보자.\n",
        "# 이 클래스는 모델 훈련이 끝난 후 사용자가 지정한 임계 값을 기반으로 특성을 선택한다.\n",
        "# Pipeline의 중간 단께에서 RandomForestClassifier를 특성 선택기로 사용할 때 유용하다.\n",
        "# 다음 코드에선 임계 값을 0.1로 하여 가장 중요한 다섯 개의 특성으로 데이터셋을 줄였다.\n",
        "sfm = SelectFromModel(forest, threshold = 0.1, prefit = True)\n",
        "X_selected = sfm.transform(X_train)\n",
        "print('임계 조건을 만족하는 샘플의 수:', X_selected.shape[1])"
      ],
      "execution_count": null,
      "outputs": [
        {
          "output_type": "stream",
          "text": [
            "임계 조건을 만족하는 샘플의 수: 5\n"
          ],
          "name": "stdout"
        }
      ]
    },
    {
      "cell_type": "code",
      "metadata": {
        "id": "rCx9i0VZkS7W",
        "colab_type": "code",
        "colab": {
          "base_uri": "https://localhost:8080/",
          "height": 111
        },
        "outputId": "cb096593-a4ed-440e-b4b6-c8d34d8420fa"
      },
      "source": [
        "for f in range(X_selected.shape[1]):\n",
        "    print(\"%2d) %-*s %f\" % (f + 1, 30, \n",
        "                            feat_labels[indices[f]], \n",
        "                            importances[indices[f]]))"
      ],
      "execution_count": null,
      "outputs": [
        {
          "output_type": "stream",
          "text": [
            " 1) Proline                        0.185453\n",
            " 2) Flavanoids                     0.174751\n",
            " 3) Color intensity                0.143920\n",
            " 4) OD280/OD315 of diluted wines   0.136162\n",
            " 5) Alcohol                        0.118529\n"
          ],
          "name": "stdout"
        }
      ]
    },
    {
      "cell_type": "code",
      "metadata": {
        "id": "r6ZGoSt4kS5G",
        "colab_type": "code",
        "colab": {}
      },
      "source": [
        ""
      ],
      "execution_count": null,
      "outputs": []
    },
    {
      "cell_type": "code",
      "metadata": {
        "id": "fMzBIsT9kS17",
        "colab_type": "code",
        "colab": {}
      },
      "source": [
        ""
      ],
      "execution_count": null,
      "outputs": []
    },
    {
      "cell_type": "code",
      "metadata": {
        "id": "Ob3D4cUKkS0C",
        "colab_type": "code",
        "colab": {}
      },
      "source": [
        ""
      ],
      "execution_count": null,
      "outputs": []
    },
    {
      "cell_type": "code",
      "metadata": {
        "id": "m6bFPvJvkSxJ",
        "colab_type": "code",
        "colab": {}
      },
      "source": [
        ""
      ],
      "execution_count": null,
      "outputs": []
    }
  ]
}