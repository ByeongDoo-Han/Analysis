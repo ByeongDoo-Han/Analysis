{
 "cells": [
  {
   "cell_type": "markdown",
   "metadata": {},
   "source": [
    "* [Denver crime map](url=https://crime.denverpost.com/map/)\n",
    "* [Crime rate after legalization of weed in Colorado](url=https://blog.naver.com/prado12/221496593627)\n",
    "![Colorado](https://postfiles.pstatic.net/MjAxOTAzMjVfNTIg/MDAxNTUzNDcxNTk3MTg2.awxAcra7n2N6vfCVSHnSMusuRznablK1YnIhReY9ztUg.RAR3vJbnxkZ8_FHZmcH-ziNBIZTctn-RYvWjjxF1Xc0g.JPEG.prado12/f9e176541bae3e0fd7b843e63acef3fe.jpg?type=w966)"
   ]
  },
  {
   "cell_type": "code",
   "execution_count": 1,
   "metadata": {},
   "outputs": [],
   "source": [
    "import pandas as pd\n",
    "import seaborn as sns\n",
    "from IPython.display import set_matplotlib_formats\n",
    "set_matplotlib_formats('retina')\n",
    "import matplotlib.pyplot as plt\n",
    "import matplotlib\n",
    "from matplotlib import pyplot as plt, font_manager as fm\n",
    "matplotlib.rc('font', family='Malgun Gothic')\n",
    "\n",
    "%matplotlib inline\n",
    "import numpy as np\n",
    "from tqdm import tqdm_notebook\n",
    "import missingno as msno"
   ]
  },
  {
   "cell_type": "code",
   "execution_count": 2,
   "metadata": {},
   "outputs": [
    {
     "name": "stdout",
     "output_type": "stream",
     "text": [
      "(299, 8)\n"
     ]
    },
    {
     "data": {
      "text/html": [
       "<div>\n",
       "<style scoped>\n",
       "    .dataframe tbody tr th:only-of-type {\n",
       "        vertical-align: middle;\n",
       "    }\n",
       "\n",
       "    .dataframe tbody tr th {\n",
       "        vertical-align: top;\n",
       "    }\n",
       "\n",
       "    .dataframe thead th {\n",
       "        text-align: right;\n",
       "    }\n",
       "</style>\n",
       "<table border=\"1\" class=\"dataframe\">\n",
       "  <thead>\n",
       "    <tr style=\"text-align: right;\">\n",
       "      <th></th>\n",
       "      <th>OFFENSE_CODE</th>\n",
       "      <th>OFFENSE_CODE_EXTENSION</th>\n",
       "      <th>OFFENSE_TYPE_ID</th>\n",
       "      <th>OFFENSE_TYPE_NAME</th>\n",
       "      <th>OFFENSE_CATEGORY_ID</th>\n",
       "      <th>OFFENSE_CATEGORY_NAME</th>\n",
       "      <th>IS_CRIME</th>\n",
       "      <th>IS_TRAFFIC</th>\n",
       "    </tr>\n",
       "  </thead>\n",
       "  <tbody>\n",
       "    <tr>\n",
       "      <td>0</td>\n",
       "      <td>2804</td>\n",
       "      <td>1</td>\n",
       "      <td>stolen-property-possession</td>\n",
       "      <td>Possession of stolen property</td>\n",
       "      <td>all-other-crimes</td>\n",
       "      <td>All Other Crimes</td>\n",
       "      <td>1</td>\n",
       "      <td>0</td>\n",
       "    </tr>\n",
       "    <tr>\n",
       "      <td>1</td>\n",
       "      <td>2804</td>\n",
       "      <td>2</td>\n",
       "      <td>fraud-possess-financial-device</td>\n",
       "      <td>Possession of a financial device</td>\n",
       "      <td>all-other-crimes</td>\n",
       "      <td>All Other Crimes</td>\n",
       "      <td>1</td>\n",
       "      <td>0</td>\n",
       "    </tr>\n",
       "    <tr>\n",
       "      <td>2</td>\n",
       "      <td>2901</td>\n",
       "      <td>0</td>\n",
       "      <td>damaged-prop-bus</td>\n",
       "      <td>Damaged business property</td>\n",
       "      <td>public-disorder</td>\n",
       "      <td>Public Disorder</td>\n",
       "      <td>1</td>\n",
       "      <td>0</td>\n",
       "    </tr>\n",
       "    <tr>\n",
       "      <td>3</td>\n",
       "      <td>2902</td>\n",
       "      <td>0</td>\n",
       "      <td>criminal-mischief-private</td>\n",
       "      <td>Criminal mischief to private property</td>\n",
       "      <td>public-disorder</td>\n",
       "      <td>Public Disorder</td>\n",
       "      <td>1</td>\n",
       "      <td>0</td>\n",
       "    </tr>\n",
       "    <tr>\n",
       "      <td>4</td>\n",
       "      <td>2903</td>\n",
       "      <td>0</td>\n",
       "      <td>criminal-mischief-public</td>\n",
       "      <td>Criminal mischief to public property</td>\n",
       "      <td>public-disorder</td>\n",
       "      <td>Public Disorder</td>\n",
       "      <td>1</td>\n",
       "      <td>0</td>\n",
       "    </tr>\n",
       "  </tbody>\n",
       "</table>\n",
       "</div>"
      ],
      "text/plain": [
       "   OFFENSE_CODE  OFFENSE_CODE_EXTENSION                 OFFENSE_TYPE_ID  \\\n",
       "0          2804                       1      stolen-property-possession   \n",
       "1          2804                       2  fraud-possess-financial-device   \n",
       "2          2901                       0                damaged-prop-bus   \n",
       "3          2902                       0       criminal-mischief-private   \n",
       "4          2903                       0        criminal-mischief-public   \n",
       "\n",
       "                       OFFENSE_TYPE_NAME OFFENSE_CATEGORY_ID  \\\n",
       "0          Possession of stolen property    all-other-crimes   \n",
       "1       Possession of a financial device    all-other-crimes   \n",
       "2              Damaged business property     public-disorder   \n",
       "3  Criminal mischief to private property     public-disorder   \n",
       "4   Criminal mischief to public property     public-disorder   \n",
       "\n",
       "  OFFENSE_CATEGORY_NAME  IS_CRIME  IS_TRAFFIC  \n",
       "0      All Other Crimes         1           0  \n",
       "1      All Other Crimes         1           0  \n",
       "2       Public Disorder         1           0  \n",
       "3       Public Disorder         1           0  \n",
       "4       Public Disorder         1           0  "
      ]
     },
     "execution_count": 2,
     "metadata": {},
     "output_type": "execute_result"
    }
   ],
   "source": [
    "offense = pd.read_csv('offense_codes.csv')\n",
    "print(offense.shape)\n",
    "offense.head()"
   ]
  },
  {
   "cell_type": "code",
   "execution_count": 3,
   "metadata": {
    "scrolled": true
   },
   "outputs": [
    {
     "name": "stdout",
     "output_type": "stream",
     "text": [
      "(526100, 19)\n"
     ]
    },
    {
     "data": {
      "text/html": [
       "<div>\n",
       "<style scoped>\n",
       "    .dataframe tbody tr th:only-of-type {\n",
       "        vertical-align: middle;\n",
       "    }\n",
       "\n",
       "    .dataframe tbody tr th {\n",
       "        vertical-align: top;\n",
       "    }\n",
       "\n",
       "    .dataframe thead th {\n",
       "        text-align: right;\n",
       "    }\n",
       "</style>\n",
       "<table border=\"1\" class=\"dataframe\">\n",
       "  <thead>\n",
       "    <tr style=\"text-align: right;\">\n",
       "      <th></th>\n",
       "      <th>INCIDENT_ID</th>\n",
       "      <th>OFFENSE_ID</th>\n",
       "      <th>OFFENSE_CODE</th>\n",
       "      <th>OFFENSE_CODE_EXTENSION</th>\n",
       "      <th>OFFENSE_TYPE_ID</th>\n",
       "      <th>OFFENSE_CATEGORY_ID</th>\n",
       "      <th>FIRST_OCCURRENCE_DATE</th>\n",
       "      <th>LAST_OCCURRENCE_DATE</th>\n",
       "      <th>REPORTED_DATE</th>\n",
       "      <th>INCIDENT_ADDRESS</th>\n",
       "      <th>GEO_X</th>\n",
       "      <th>GEO_Y</th>\n",
       "      <th>GEO_LON</th>\n",
       "      <th>GEO_LAT</th>\n",
       "      <th>DISTRICT_ID</th>\n",
       "      <th>PRECINCT_ID</th>\n",
       "      <th>NEIGHBORHOOD_ID</th>\n",
       "      <th>IS_CRIME</th>\n",
       "      <th>IS_TRAFFIC</th>\n",
       "    </tr>\n",
       "  </thead>\n",
       "  <tbody>\n",
       "    <tr>\n",
       "      <td>0</td>\n",
       "      <td>2016376978</td>\n",
       "      <td>2016376978521300</td>\n",
       "      <td>5213</td>\n",
       "      <td>0</td>\n",
       "      <td>weapon-unlawful-discharge-of</td>\n",
       "      <td>all-other-crimes</td>\n",
       "      <td>6/15/2016 11:31:00 PM</td>\n",
       "      <td>NaN</td>\n",
       "      <td>6/15/2016 11:31:00 PM</td>\n",
       "      <td>NaN</td>\n",
       "      <td>3193983.0</td>\n",
       "      <td>1707251.0</td>\n",
       "      <td>-104.809881</td>\n",
       "      <td>39.773188</td>\n",
       "      <td>5</td>\n",
       "      <td>521</td>\n",
       "      <td>montbello</td>\n",
       "      <td>1</td>\n",
       "      <td>0</td>\n",
       "    </tr>\n",
       "    <tr>\n",
       "      <td>1</td>\n",
       "      <td>20186000994</td>\n",
       "      <td>20186000994239900</td>\n",
       "      <td>2399</td>\n",
       "      <td>0</td>\n",
       "      <td>theft-other</td>\n",
       "      <td>larceny</td>\n",
       "      <td>10/11/2017 12:30:00 PM</td>\n",
       "      <td>10/11/2017 4:55:00 PM</td>\n",
       "      <td>1/29/2018 5:53:00 PM</td>\n",
       "      <td>NaN</td>\n",
       "      <td>3201943.0</td>\n",
       "      <td>1711852.0</td>\n",
       "      <td>-104.781434</td>\n",
       "      <td>39.785649</td>\n",
       "      <td>5</td>\n",
       "      <td>522</td>\n",
       "      <td>gateway-green-valley-ranch</td>\n",
       "      <td>1</td>\n",
       "      <td>0</td>\n",
       "    </tr>\n",
       "    <tr>\n",
       "      <td>2</td>\n",
       "      <td>20166003953</td>\n",
       "      <td>20166003953230500</td>\n",
       "      <td>2305</td>\n",
       "      <td>0</td>\n",
       "      <td>theft-items-from-vehicle</td>\n",
       "      <td>theft-from-motor-vehicle</td>\n",
       "      <td>3/4/2016 8:00:00 PM</td>\n",
       "      <td>4/25/2016 8:00:00 AM</td>\n",
       "      <td>4/26/2016 9:02:00 PM</td>\n",
       "      <td>2932 S JOSEPHINE ST</td>\n",
       "      <td>3152762.0</td>\n",
       "      <td>1667011.0</td>\n",
       "      <td>-104.957381</td>\n",
       "      <td>39.663490</td>\n",
       "      <td>3</td>\n",
       "      <td>314</td>\n",
       "      <td>wellshire</td>\n",
       "      <td>1</td>\n",
       "      <td>0</td>\n",
       "    </tr>\n",
       "    <tr>\n",
       "      <td>3</td>\n",
       "      <td>201872333</td>\n",
       "      <td>201872333239900</td>\n",
       "      <td>2399</td>\n",
       "      <td>0</td>\n",
       "      <td>theft-other</td>\n",
       "      <td>larceny</td>\n",
       "      <td>1/30/2018 7:20:00 PM</td>\n",
       "      <td>NaN</td>\n",
       "      <td>1/30/2018 10:29:00 PM</td>\n",
       "      <td>705 S COLORADO BLVD</td>\n",
       "      <td>3157162.0</td>\n",
       "      <td>1681320.0</td>\n",
       "      <td>-104.941440</td>\n",
       "      <td>39.702698</td>\n",
       "      <td>3</td>\n",
       "      <td>312</td>\n",
       "      <td>belcaro</td>\n",
       "      <td>1</td>\n",
       "      <td>0</td>\n",
       "    </tr>\n",
       "    <tr>\n",
       "      <td>4</td>\n",
       "      <td>2017411405</td>\n",
       "      <td>2017411405230300</td>\n",
       "      <td>2303</td>\n",
       "      <td>0</td>\n",
       "      <td>theft-shoplift</td>\n",
       "      <td>larceny</td>\n",
       "      <td>6/22/2017 8:53:00 PM</td>\n",
       "      <td>NaN</td>\n",
       "      <td>6/23/2017 4:09:00 PM</td>\n",
       "      <td>2810 E 1ST AVE</td>\n",
       "      <td>3153211.0</td>\n",
       "      <td>1686545.0</td>\n",
       "      <td>-104.955370</td>\n",
       "      <td>39.717107</td>\n",
       "      <td>3</td>\n",
       "      <td>311</td>\n",
       "      <td>cherry-creek</td>\n",
       "      <td>1</td>\n",
       "      <td>0</td>\n",
       "    </tr>\n",
       "  </tbody>\n",
       "</table>\n",
       "</div>"
      ],
      "text/plain": [
       "   INCIDENT_ID         OFFENSE_ID  OFFENSE_CODE  OFFENSE_CODE_EXTENSION  \\\n",
       "0   2016376978   2016376978521300          5213                       0   \n",
       "1  20186000994  20186000994239900          2399                       0   \n",
       "2  20166003953  20166003953230500          2305                       0   \n",
       "3    201872333    201872333239900          2399                       0   \n",
       "4   2017411405   2017411405230300          2303                       0   \n",
       "\n",
       "                OFFENSE_TYPE_ID       OFFENSE_CATEGORY_ID  \\\n",
       "0  weapon-unlawful-discharge-of          all-other-crimes   \n",
       "1                   theft-other                   larceny   \n",
       "2      theft-items-from-vehicle  theft-from-motor-vehicle   \n",
       "3                   theft-other                   larceny   \n",
       "4                theft-shoplift                   larceny   \n",
       "\n",
       "    FIRST_OCCURRENCE_DATE   LAST_OCCURRENCE_DATE          REPORTED_DATE  \\\n",
       "0   6/15/2016 11:31:00 PM                    NaN  6/15/2016 11:31:00 PM   \n",
       "1  10/11/2017 12:30:00 PM  10/11/2017 4:55:00 PM   1/29/2018 5:53:00 PM   \n",
       "2     3/4/2016 8:00:00 PM   4/25/2016 8:00:00 AM   4/26/2016 9:02:00 PM   \n",
       "3    1/30/2018 7:20:00 PM                    NaN  1/30/2018 10:29:00 PM   \n",
       "4    6/22/2017 8:53:00 PM                    NaN   6/23/2017 4:09:00 PM   \n",
       "\n",
       "      INCIDENT_ADDRESS      GEO_X      GEO_Y     GEO_LON    GEO_LAT  \\\n",
       "0                  NaN  3193983.0  1707251.0 -104.809881  39.773188   \n",
       "1                  NaN  3201943.0  1711852.0 -104.781434  39.785649   \n",
       "2  2932 S JOSEPHINE ST  3152762.0  1667011.0 -104.957381  39.663490   \n",
       "3  705 S COLORADO BLVD  3157162.0  1681320.0 -104.941440  39.702698   \n",
       "4       2810 E 1ST AVE  3153211.0  1686545.0 -104.955370  39.717107   \n",
       "\n",
       "   DISTRICT_ID  PRECINCT_ID             NEIGHBORHOOD_ID  IS_CRIME  IS_TRAFFIC  \n",
       "0            5          521                   montbello         1           0  \n",
       "1            5          522  gateway-green-valley-ranch         1           0  \n",
       "2            3          314                   wellshire         1           0  \n",
       "3            3          312                     belcaro         1           0  \n",
       "4            3          311                cherry-creek         1           0  "
      ]
     },
     "execution_count": 3,
     "metadata": {},
     "output_type": "execute_result"
    }
   ],
   "source": [
    "crime = pd.read_csv('crime.csv')\n",
    "print(crime.shape)\n",
    "crime.head()"
   ]
  },
  {
   "cell_type": "code",
   "execution_count": 4,
   "metadata": {
    "scrolled": true
   },
   "outputs": [
    {
     "data": {
      "text/plain": [
       "Index(['INCIDENT_ID', 'OFFENSE_ID', 'OFFENSE_CODE', 'OFFENSE_CODE_EXTENSION',\n",
       "       'OFFENSE_TYPE_ID', 'OFFENSE_CATEGORY_ID', 'FIRST_OCCURRENCE_DATE',\n",
       "       'LAST_OCCURRENCE_DATE', 'REPORTED_DATE', 'INCIDENT_ADDRESS', 'GEO_X',\n",
       "       'GEO_Y', 'GEO_LON', 'GEO_LAT', 'DISTRICT_ID', 'PRECINCT_ID',\n",
       "       'NEIGHBORHOOD_ID', 'IS_CRIME', 'IS_TRAFFIC'],\n",
       "      dtype='object')"
      ]
     },
     "execution_count": 4,
     "metadata": {},
     "output_type": "execute_result"
    }
   ],
   "source": [
    "crime.columns"
   ]
  },
  {
   "cell_type": "code",
   "execution_count": 5,
   "metadata": {},
   "outputs": [
    {
     "data": {
      "text/plain": [
       "Index(['OFFENSE_CODE', 'OFFENSE_CODE_EXTENSION', 'OFFENSE_TYPE_ID',\n",
       "       'OFFENSE_TYPE_NAME', 'OFFENSE_CATEGORY_ID', 'OFFENSE_CATEGORY_NAME',\n",
       "       'IS_CRIME', 'IS_TRAFFIC'],\n",
       "      dtype='object')"
      ]
     },
     "execution_count": 5,
     "metadata": {},
     "output_type": "execute_result"
    }
   ],
   "source": [
    "offense.columns"
   ]
  },
  {
   "cell_type": "code",
   "execution_count": 6,
   "metadata": {
    "scrolled": false
   },
   "outputs": [
    {
     "data": {
      "text/html": [
       "<div>\n",
       "<style scoped>\n",
       "    .dataframe tbody tr th:only-of-type {\n",
       "        vertical-align: middle;\n",
       "    }\n",
       "\n",
       "    .dataframe tbody tr th {\n",
       "        vertical-align: top;\n",
       "    }\n",
       "\n",
       "    .dataframe thead th {\n",
       "        text-align: right;\n",
       "    }\n",
       "</style>\n",
       "<table border=\"1\" class=\"dataframe\">\n",
       "  <thead>\n",
       "    <tr style=\"text-align: right;\">\n",
       "      <th></th>\n",
       "      <th>INCIDENT_ID</th>\n",
       "      <th>OFFENSE_ID</th>\n",
       "      <th>OFFENSE_CODE</th>\n",
       "      <th>OFFENSE_CODE_EXTENSION</th>\n",
       "      <th>OFFENSE_TYPE_ID</th>\n",
       "      <th>OFFENSE_CATEGORY_ID</th>\n",
       "      <th>FIRST_OCCURRENCE_DATE</th>\n",
       "      <th>LAST_OCCURRENCE_DATE</th>\n",
       "      <th>REPORTED_DATE</th>\n",
       "      <th>INCIDENT_ADDRESS</th>\n",
       "      <th>...</th>\n",
       "      <th>GEO_Y</th>\n",
       "      <th>GEO_LON</th>\n",
       "      <th>GEO_LAT</th>\n",
       "      <th>DISTRICT_ID</th>\n",
       "      <th>PRECINCT_ID</th>\n",
       "      <th>NEIGHBORHOOD_ID</th>\n",
       "      <th>IS_CRIME</th>\n",
       "      <th>IS_TRAFFIC</th>\n",
       "      <th>OFFENSE_TYPE_NAME</th>\n",
       "      <th>OFFENSE_CATEGORY_NAME</th>\n",
       "    </tr>\n",
       "  </thead>\n",
       "  <tbody>\n",
       "    <tr>\n",
       "      <td>0</td>\n",
       "      <td>2016376978</td>\n",
       "      <td>2016376978521300</td>\n",
       "      <td>5213</td>\n",
       "      <td>0</td>\n",
       "      <td>weapon-unlawful-discharge-of</td>\n",
       "      <td>all-other-crimes</td>\n",
       "      <td>6/15/2016 11:31:00 PM</td>\n",
       "      <td>NaN</td>\n",
       "      <td>6/15/2016 11:31:00 PM</td>\n",
       "      <td>NaN</td>\n",
       "      <td>...</td>\n",
       "      <td>1707251.0</td>\n",
       "      <td>-104.809881</td>\n",
       "      <td>39.773188</td>\n",
       "      <td>5</td>\n",
       "      <td>521</td>\n",
       "      <td>montbello</td>\n",
       "      <td>1</td>\n",
       "      <td>0</td>\n",
       "      <td>Unlawful discharge of a weapon</td>\n",
       "      <td>All Other Crimes</td>\n",
       "    </tr>\n",
       "    <tr>\n",
       "      <td>1</td>\n",
       "      <td>201872599</td>\n",
       "      <td>201872599521300</td>\n",
       "      <td>5213</td>\n",
       "      <td>0</td>\n",
       "      <td>weapon-unlawful-discharge-of</td>\n",
       "      <td>all-other-crimes</td>\n",
       "      <td>1/30/2018 10:14:00 PM</td>\n",
       "      <td>NaN</td>\n",
       "      <td>1/30/2018 10:14:00 PM</td>\n",
       "      <td>12900 BLOCK E ANDREWS DR</td>\n",
       "      <td>...</td>\n",
       "      <td>1711367.0</td>\n",
       "      <td>-104.841184</td>\n",
       "      <td>39.784667</td>\n",
       "      <td>5</td>\n",
       "      <td>521</td>\n",
       "      <td>montbello</td>\n",
       "      <td>1</td>\n",
       "      <td>0</td>\n",
       "      <td>Unlawful discharge of a weapon</td>\n",
       "      <td>All Other Crimes</td>\n",
       "    </tr>\n",
       "    <tr>\n",
       "      <td>2</td>\n",
       "      <td>201866465</td>\n",
       "      <td>201866465521300</td>\n",
       "      <td>5213</td>\n",
       "      <td>0</td>\n",
       "      <td>weapon-unlawful-discharge-of</td>\n",
       "      <td>all-other-crimes</td>\n",
       "      <td>1/28/2018 1:30:00 PM</td>\n",
       "      <td>1/28/2018 1:30:00 PM</td>\n",
       "      <td>1/28/2018 4:26:00 PM</td>\n",
       "      <td>14000 BLK E MAXWELL PL</td>\n",
       "      <td>...</td>\n",
       "      <td>1714526.0</td>\n",
       "      <td>-104.824755</td>\n",
       "      <td>39.793246</td>\n",
       "      <td>5</td>\n",
       "      <td>521</td>\n",
       "      <td>montbello</td>\n",
       "      <td>1</td>\n",
       "      <td>0</td>\n",
       "      <td>Unlawful discharge of a weapon</td>\n",
       "      <td>All Other Crimes</td>\n",
       "    </tr>\n",
       "    <tr>\n",
       "      <td>3</td>\n",
       "      <td>201872704</td>\n",
       "      <td>201872704521300</td>\n",
       "      <td>5213</td>\n",
       "      <td>0</td>\n",
       "      <td>weapon-unlawful-discharge-of</td>\n",
       "      <td>all-other-crimes</td>\n",
       "      <td>1/30/2018 11:08:00 PM</td>\n",
       "      <td>NaN</td>\n",
       "      <td>1/31/2018 8:43:00 AM</td>\n",
       "      <td>1700 BLOCK E BRUCE RANDOLPH AVE</td>\n",
       "      <td>...</td>\n",
       "      <td>1703764.0</td>\n",
       "      <td>-104.966880</td>\n",
       "      <td>39.764431</td>\n",
       "      <td>2</td>\n",
       "      <td>211</td>\n",
       "      <td>cole</td>\n",
       "      <td>1</td>\n",
       "      <td>0</td>\n",
       "      <td>Unlawful discharge of a weapon</td>\n",
       "      <td>All Other Crimes</td>\n",
       "    </tr>\n",
       "    <tr>\n",
       "      <td>4</td>\n",
       "      <td>2018255494</td>\n",
       "      <td>2018255494521300</td>\n",
       "      <td>5213</td>\n",
       "      <td>0</td>\n",
       "      <td>weapon-unlawful-discharge-of</td>\n",
       "      <td>all-other-crimes</td>\n",
       "      <td>4/17/2018 2:29:00 AM</td>\n",
       "      <td>NaN</td>\n",
       "      <td>4/17/2018 2:48:00 AM</td>\n",
       "      <td>900 BLOCK N NEWTON ST</td>\n",
       "      <td>...</td>\n",
       "      <td>1691766.0</td>\n",
       "      <td>-105.037222</td>\n",
       "      <td>39.731791</td>\n",
       "      <td>1</td>\n",
       "      <td>122</td>\n",
       "      <td>villa-park</td>\n",
       "      <td>1</td>\n",
       "      <td>0</td>\n",
       "      <td>Unlawful discharge of a weapon</td>\n",
       "      <td>All Other Crimes</td>\n",
       "    </tr>\n",
       "  </tbody>\n",
       "</table>\n",
       "<p>5 rows × 21 columns</p>\n",
       "</div>"
      ],
      "text/plain": [
       "   INCIDENT_ID        OFFENSE_ID  OFFENSE_CODE  OFFENSE_CODE_EXTENSION  \\\n",
       "0   2016376978  2016376978521300          5213                       0   \n",
       "1    201872599   201872599521300          5213                       0   \n",
       "2    201866465   201866465521300          5213                       0   \n",
       "3    201872704   201872704521300          5213                       0   \n",
       "4   2018255494  2018255494521300          5213                       0   \n",
       "\n",
       "                OFFENSE_TYPE_ID OFFENSE_CATEGORY_ID  FIRST_OCCURRENCE_DATE  \\\n",
       "0  weapon-unlawful-discharge-of    all-other-crimes  6/15/2016 11:31:00 PM   \n",
       "1  weapon-unlawful-discharge-of    all-other-crimes  1/30/2018 10:14:00 PM   \n",
       "2  weapon-unlawful-discharge-of    all-other-crimes   1/28/2018 1:30:00 PM   \n",
       "3  weapon-unlawful-discharge-of    all-other-crimes  1/30/2018 11:08:00 PM   \n",
       "4  weapon-unlawful-discharge-of    all-other-crimes   4/17/2018 2:29:00 AM   \n",
       "\n",
       "   LAST_OCCURRENCE_DATE          REPORTED_DATE  \\\n",
       "0                   NaN  6/15/2016 11:31:00 PM   \n",
       "1                   NaN  1/30/2018 10:14:00 PM   \n",
       "2  1/28/2018 1:30:00 PM   1/28/2018 4:26:00 PM   \n",
       "3                   NaN   1/31/2018 8:43:00 AM   \n",
       "4                   NaN   4/17/2018 2:48:00 AM   \n",
       "\n",
       "                  INCIDENT_ADDRESS  ...      GEO_Y     GEO_LON    GEO_LAT  \\\n",
       "0                              NaN  ...  1707251.0 -104.809881  39.773188   \n",
       "1         12900 BLOCK E ANDREWS DR  ...  1711367.0 -104.841184  39.784667   \n",
       "2           14000 BLK E MAXWELL PL  ...  1714526.0 -104.824755  39.793246   \n",
       "3  1700 BLOCK E BRUCE RANDOLPH AVE  ...  1703764.0 -104.966880  39.764431   \n",
       "4            900 BLOCK N NEWTON ST  ...  1691766.0 -105.037222  39.731791   \n",
       "\n",
       "   DISTRICT_ID  PRECINCT_ID  NEIGHBORHOOD_ID IS_CRIME  IS_TRAFFIC  \\\n",
       "0            5          521        montbello        1           0   \n",
       "1            5          521        montbello        1           0   \n",
       "2            5          521        montbello        1           0   \n",
       "3            2          211             cole        1           0   \n",
       "4            1          122       villa-park        1           0   \n",
       "\n",
       "                OFFENSE_TYPE_NAME OFFENSE_CATEGORY_NAME  \n",
       "0  Unlawful discharge of a weapon      All Other Crimes  \n",
       "1  Unlawful discharge of a weapon      All Other Crimes  \n",
       "2  Unlawful discharge of a weapon      All Other Crimes  \n",
       "3  Unlawful discharge of a weapon      All Other Crimes  \n",
       "4  Unlawful discharge of a weapon      All Other Crimes  \n",
       "\n",
       "[5 rows x 21 columns]"
      ]
     },
     "execution_count": 6,
     "metadata": {},
     "output_type": "execute_result"
    }
   ],
   "source": [
    "df = pd.merge(crime, offense)\n",
    "df.head()"
   ]
  },
  {
   "cell_type": "code",
   "execution_count": 7,
   "metadata": {},
   "outputs": [
    {
     "data": {
      "text/plain": [
       "Index(['INCIDENT_ID', 'OFFENSE_ID', 'OFFENSE_CODE', 'OFFENSE_CODE_EXTENSION',\n",
       "       'OFFENSE_TYPE_ID', 'OFFENSE_CATEGORY_ID', 'FIRST_OCCURRENCE_DATE',\n",
       "       'LAST_OCCURRENCE_DATE', 'REPORTED_DATE', 'INCIDENT_ADDRESS', 'GEO_X',\n",
       "       'GEO_Y', 'GEO_LON', 'GEO_LAT', 'DISTRICT_ID', 'PRECINCT_ID',\n",
       "       'NEIGHBORHOOD_ID', 'IS_CRIME', 'IS_TRAFFIC', 'OFFENSE_TYPE_NAME',\n",
       "       'OFFENSE_CATEGORY_NAME'],\n",
       "      dtype='object')"
      ]
     },
     "execution_count": 7,
     "metadata": {},
     "output_type": "execute_result"
    }
   ],
   "source": [
    "df.columns"
   ]
  },
  {
   "cell_type": "code",
   "execution_count": 8,
   "metadata": {},
   "outputs": [],
   "source": [
    "dff = df.copy()"
   ]
  },
  {
   "cell_type": "code",
   "execution_count": 9,
   "metadata": {},
   "outputs": [],
   "source": [
    "dff = dff[['OFFENSE_ID',\n",
    "        'FIRST_OCCURRENCE_DATE',\n",
    "       'OFFENSE_TYPE_NAME',\n",
    "       'OFFENSE_CATEGORY_NAME']]"
   ]
  },
  {
   "cell_type": "code",
   "execution_count": 10,
   "metadata": {
    "scrolled": true
   },
   "outputs": [
    {
     "data": {
      "text/html": [
       "<div>\n",
       "<style scoped>\n",
       "    .dataframe tbody tr th:only-of-type {\n",
       "        vertical-align: middle;\n",
       "    }\n",
       "\n",
       "    .dataframe tbody tr th {\n",
       "        vertical-align: top;\n",
       "    }\n",
       "\n",
       "    .dataframe thead th {\n",
       "        text-align: right;\n",
       "    }\n",
       "</style>\n",
       "<table border=\"1\" class=\"dataframe\">\n",
       "  <thead>\n",
       "    <tr style=\"text-align: right;\">\n",
       "      <th></th>\n",
       "      <th>OFFENSE_ID</th>\n",
       "      <th>FIRST_OCCURRENCE_DATE</th>\n",
       "      <th>OFFENSE_TYPE_NAME</th>\n",
       "      <th>OFFENSE_CATEGORY_NAME</th>\n",
       "    </tr>\n",
       "  </thead>\n",
       "  <tbody>\n",
       "    <tr>\n",
       "      <td>0</td>\n",
       "      <td>2016376978521300</td>\n",
       "      <td>6/15/2016 11:31:00 PM</td>\n",
       "      <td>Unlawful discharge of a weapon</td>\n",
       "      <td>All Other Crimes</td>\n",
       "    </tr>\n",
       "    <tr>\n",
       "      <td>1</td>\n",
       "      <td>201872599521300</td>\n",
       "      <td>1/30/2018 10:14:00 PM</td>\n",
       "      <td>Unlawful discharge of a weapon</td>\n",
       "      <td>All Other Crimes</td>\n",
       "    </tr>\n",
       "    <tr>\n",
       "      <td>2</td>\n",
       "      <td>201866465521300</td>\n",
       "      <td>1/28/2018 1:30:00 PM</td>\n",
       "      <td>Unlawful discharge of a weapon</td>\n",
       "      <td>All Other Crimes</td>\n",
       "    </tr>\n",
       "    <tr>\n",
       "      <td>3</td>\n",
       "      <td>201872704521300</td>\n",
       "      <td>1/30/2018 11:08:00 PM</td>\n",
       "      <td>Unlawful discharge of a weapon</td>\n",
       "      <td>All Other Crimes</td>\n",
       "    </tr>\n",
       "    <tr>\n",
       "      <td>4</td>\n",
       "      <td>2018255494521300</td>\n",
       "      <td>4/17/2018 2:29:00 AM</td>\n",
       "      <td>Unlawful discharge of a weapon</td>\n",
       "      <td>All Other Crimes</td>\n",
       "    </tr>\n",
       "  </tbody>\n",
       "</table>\n",
       "</div>"
      ],
      "text/plain": [
       "         OFFENSE_ID  FIRST_OCCURRENCE_DATE               OFFENSE_TYPE_NAME  \\\n",
       "0  2016376978521300  6/15/2016 11:31:00 PM  Unlawful discharge of a weapon   \n",
       "1   201872599521300  1/30/2018 10:14:00 PM  Unlawful discharge of a weapon   \n",
       "2   201866465521300   1/28/2018 1:30:00 PM  Unlawful discharge of a weapon   \n",
       "3   201872704521300  1/30/2018 11:08:00 PM  Unlawful discharge of a weapon   \n",
       "4  2018255494521300   4/17/2018 2:29:00 AM  Unlawful discharge of a weapon   \n",
       "\n",
       "  OFFENSE_CATEGORY_NAME  \n",
       "0      All Other Crimes  \n",
       "1      All Other Crimes  \n",
       "2      All Other Crimes  \n",
       "3      All Other Crimes  \n",
       "4      All Other Crimes  "
      ]
     },
     "execution_count": 10,
     "metadata": {},
     "output_type": "execute_result"
    }
   ],
   "source": [
    "dff.head()"
   ]
  },
  {
   "cell_type": "code",
   "execution_count": 11,
   "metadata": {
    "scrolled": true
   },
   "outputs": [
    {
     "data": {
      "application/vnd.jupyter.widget-view+json": {
       "model_id": "ffa117e2028b44acace4c64ca23bccf9",
       "version_major": 2,
       "version_minor": 0
      },
      "text/plain": [
       "HBox(children=(IntProgress(value=0, max=526100), HTML(value='')))"
      ]
     },
     "metadata": {},
     "output_type": "display_data"
    },
    {
     "name": "stdout",
     "output_type": "stream",
     "text": [
      "\n"
     ]
    }
   ],
   "source": [
    "dff['FIRST_OCCURRENCE_DATE'] = tqdm_notebook(pd.to_datetime(dff['FIRST_OCCURRENCE_DATE']))"
   ]
  },
  {
   "cell_type": "code",
   "execution_count": 12,
   "metadata": {},
   "outputs": [
    {
     "name": "stdout",
     "output_type": "stream",
     "text": [
      "<class 'pandas.core.frame.DataFrame'>\n",
      "Int64Index: 526100 entries, 0 to 526099\n",
      "Data columns (total 4 columns):\n",
      "OFFENSE_ID               526100 non-null int64\n",
      "FIRST_OCCURRENCE_DATE    526100 non-null datetime64[ns]\n",
      "OFFENSE_TYPE_NAME        526100 non-null object\n",
      "OFFENSE_CATEGORY_NAME    526100 non-null object\n",
      "dtypes: datetime64[ns](1), int64(1), object(2)\n",
      "memory usage: 20.1+ MB\n"
     ]
    }
   ],
   "source": [
    "dff.info()"
   ]
  },
  {
   "cell_type": "code",
   "execution_count": 13,
   "metadata": {},
   "outputs": [
    {
     "data": {
      "text/plain": [
       "<matplotlib.axes._subplots.AxesSubplot at 0x1a6c26227b8>"
      ]
     },
     "execution_count": 13,
     "metadata": {},
     "output_type": "execute_result"
    },
    {
     "data": {
      "image/png": "[encoded data removed]",
      "text/plain": [
       "<Figure size 1800x720 with 2 Axes>"
      ]
     },
     "metadata": {
      "needs_background": "light"
     },
     "output_type": "display_data"
    }
   ],
   "source": [
    "msno.matrix(dff)"
   ]
  },
  {
   "cell_type": "code",
   "execution_count": 14,
   "metadata": {},
   "outputs": [],
   "source": [
    "crimekind = pd.DataFrame(dff['OFFENSE_CATEGORY_NAME'].value_counts()).reset_index()"
   ]
  },
  {
   "cell_type": "code",
   "execution_count": 15,
   "metadata": {},
   "outputs": [],
   "source": [
    "crimekind.columns = ['Crime', 'Counts']"
   ]
  },
  {
   "cell_type": "code",
   "execution_count": 49,
   "metadata": {},
   "outputs": [
    {
     "data": {
      "text/plain": [
       "<matplotlib.axes._subplots.AxesSubplot at 0x1a6c2710a58>"
      ]
     },
     "execution_count": 49,
     "metadata": {},
     "output_type": "execute_result"
    },
    {
     "data": {
      "image/png": "[encoded data removed]",
      "text/plain": [
       "<Figure size 504x360 with 1 Axes>"
      ]
     },
     "metadata": {},
     "output_type": "display_data"
    }
   ],
   "source": [
    "plt.style.use('ggplot')\n",
    "plt.figure(figsize=(7,5))\n",
    "plt.title('Crime counts')\n",
    "sns.barplot(data=crimekind, x='Counts', y='Crime')"
   ]
  },
  {
   "cell_type": "code",
   "execution_count": 17,
   "metadata": {},
   "outputs": [
    {
     "data": {
      "text/plain": [
       "['Traffic Accident',\n",
       " 'All Other Crimes',\n",
       " 'Public Disorder',\n",
       " 'Larceny',\n",
       " 'Theft from Motor Vehicle',\n",
       " 'Drug & Alcohol',\n",
       " 'Auto Theft',\n",
       " 'Other Crimes Against Persons',\n",
       " 'Burglary',\n",
       " 'Aggravated Assault',\n",
       " 'White Collar Crime',\n",
       " 'Robbery',\n",
       " 'Sexual Assault',\n",
       " 'Arson',\n",
       " 'Murder']"
      ]
     },
     "execution_count": 17,
     "metadata": {},
     "output_type": "execute_result"
    }
   ],
   "source": [
    "crimekindlist = list(crimekind['Crime'])\n",
    "crimekindlist"
   ]
  },
  {
   "cell_type": "code",
   "execution_count": 18,
   "metadata": {},
   "outputs": [],
   "source": [
    "allother = dff.loc[dff['OFFENSE_CATEGORY_NAME']=='All Other Crimes','OFFENSE_TYPE_NAME']"
   ]
  },
  {
   "cell_type": "code",
   "execution_count": 19,
   "metadata": {},
   "outputs": [],
   "source": [
    "allother = pd.DataFrame(allother.value_counts())"
   ]
  },
  {
   "cell_type": "code",
   "execution_count": 20,
   "metadata": {},
   "outputs": [],
   "source": [
    "allother = allother.reset_index()"
   ]
  },
  {
   "cell_type": "code",
   "execution_count": 21,
   "metadata": {},
   "outputs": [],
   "source": [
    "allother.columns=['Crime', 'Counts']"
   ]
  },
  {
   "cell_type": "code",
   "execution_count": 22,
   "metadata": {},
   "outputs": [],
   "source": [
    "allother11 = allother.iloc[:11]"
   ]
  },
  {
   "cell_type": "code",
   "execution_count": 23,
   "metadata": {},
   "outputs": [
    {
     "data": {
      "text/html": [
       "<div>\n",
       "<style scoped>\n",
       "    .dataframe tbody tr th:only-of-type {\n",
       "        vertical-align: middle;\n",
       "    }\n",
       "\n",
       "    .dataframe tbody tr th {\n",
       "        vertical-align: top;\n",
       "    }\n",
       "\n",
       "    .dataframe thead th {\n",
       "        text-align: right;\n",
       "    }\n",
       "</style>\n",
       "<table border=\"1\" class=\"dataframe\">\n",
       "  <thead>\n",
       "    <tr style=\"text-align: right;\">\n",
       "      <th></th>\n",
       "      <th>Crime</th>\n",
       "      <th>Counts</th>\n",
       "    </tr>\n",
       "  </thead>\n",
       "  <tbody>\n",
       "    <tr>\n",
       "      <td>0</td>\n",
       "      <td>Traffic offense - other</td>\n",
       "      <td>33668</td>\n",
       "    </tr>\n",
       "    <tr>\n",
       "      <td>1</td>\n",
       "      <td>Criminal trespassing</td>\n",
       "      <td>16483</td>\n",
       "    </tr>\n",
       "    <tr>\n",
       "      <td>2</td>\n",
       "      <td>Public order offense - other</td>\n",
       "      <td>8223</td>\n",
       "    </tr>\n",
       "    <tr>\n",
       "      <td>3</td>\n",
       "      <td>Habitual traffic offender</td>\n",
       "      <td>3993</td>\n",
       "    </tr>\n",
       "    <tr>\n",
       "      <td>4</td>\n",
       "      <td>Vehicular eluding - no chase</td>\n",
       "      <td>3968</td>\n",
       "    </tr>\n",
       "    <tr>\n",
       "      <td>5</td>\n",
       "      <td>Giving false information to police</td>\n",
       "      <td>3934</td>\n",
       "    </tr>\n",
       "    <tr>\n",
       "      <td>6</td>\n",
       "      <td>Violation of a restraining order</td>\n",
       "      <td>3287</td>\n",
       "    </tr>\n",
       "    <tr>\n",
       "      <td>7</td>\n",
       "      <td>Violation of a court order</td>\n",
       "      <td>2922</td>\n",
       "    </tr>\n",
       "    <tr>\n",
       "      <td>8</td>\n",
       "      <td>Unlawful discharge of a weapon</td>\n",
       "      <td>2864</td>\n",
       "    </tr>\n",
       "    <tr>\n",
       "      <td>9</td>\n",
       "      <td>Obstructing police</td>\n",
       "      <td>2075</td>\n",
       "    </tr>\n",
       "    <tr>\n",
       "      <td>10</td>\n",
       "      <td>Possession of a weapon - POWPO</td>\n",
       "      <td>1626</td>\n",
       "    </tr>\n",
       "  </tbody>\n",
       "</table>\n",
       "</div>"
      ],
      "text/plain": [
       "                                 Crime  Counts\n",
       "0              Traffic offense - other   33668\n",
       "1                 Criminal trespassing   16483\n",
       "2         Public order offense - other    8223\n",
       "3            Habitual traffic offender    3993\n",
       "4         Vehicular eluding - no chase    3968\n",
       "5   Giving false information to police    3934\n",
       "6     Violation of a restraining order    3287\n",
       "7           Violation of a court order    2922\n",
       "8       Unlawful discharge of a weapon    2864\n",
       "9                   Obstructing police    2075\n",
       "10      Possession of a weapon - POWPO    1626"
      ]
     },
     "execution_count": 23,
     "metadata": {},
     "output_type": "execute_result"
    }
   ],
   "source": [
    "allother11"
   ]
  },
  {
   "cell_type": "code",
   "execution_count": 24,
   "metadata": {},
   "outputs": [
    {
     "data": {
      "text/plain": [
       "<matplotlib.axes._subplots.AxesSubplot at 0x1a6c030a400>"
      ]
     },
     "execution_count": 24,
     "metadata": {},
     "output_type": "execute_result"
    },
    {
     "data": {
      "image/png": "[encoded data removed]",
      "text/plain": [
       "<Figure size 504x360 with 1 Axes>"
      ]
     },
     "metadata": {},
     "output_type": "display_data"
    }
   ],
   "source": [
    "plt.figure(figsize=(7,5))\n",
    "plt.title(\"Kind of 'All other crimes'\")\n",
    "sns.barplot(data= allother11, x='Counts', y='Crime')"
   ]
  },
  {
   "cell_type": "code",
   "execution_count": 25,
   "metadata": {},
   "outputs": [],
   "source": [
    "PD = df.loc[df['OFFENSE_CATEGORY_NAME']=='Public Disorder']\n",
    "PD = pd.DataFrame(PD['OFFENSE_TYPE_NAME'].value_counts()).reset_index()\n",
    "PD.columns=['Crimes', 'Counts']"
   ]
  },
  {
   "cell_type": "code",
   "execution_count": 26,
   "metadata": {},
   "outputs": [
    {
     "data": {
      "text/html": [
       "<div>\n",
       "<style scoped>\n",
       "    .dataframe tbody tr th:only-of-type {\n",
       "        vertical-align: middle;\n",
       "    }\n",
       "\n",
       "    .dataframe tbody tr th {\n",
       "        vertical-align: top;\n",
       "    }\n",
       "\n",
       "    .dataframe thead th {\n",
       "        text-align: right;\n",
       "    }\n",
       "</style>\n",
       "<table border=\"1\" class=\"dataframe\">\n",
       "  <thead>\n",
       "    <tr style=\"text-align: right;\">\n",
       "      <th></th>\n",
       "      <th>Crimes</th>\n",
       "      <th>Counts</th>\n",
       "    </tr>\n",
       "  </thead>\n",
       "  <tbody>\n",
       "    <tr>\n",
       "      <td>0</td>\n",
       "      <td>Criminal mischief to a motor vehicle</td>\n",
       "      <td>15958</td>\n",
       "    </tr>\n",
       "    <tr>\n",
       "      <td>1</td>\n",
       "      <td>Criminal mischief - other</td>\n",
       "      <td>14114</td>\n",
       "    </tr>\n",
       "    <tr>\n",
       "      <td>2</td>\n",
       "      <td>Disturbing the peace</td>\n",
       "      <td>8928</td>\n",
       "    </tr>\n",
       "    <tr>\n",
       "      <td>3</td>\n",
       "      <td>Threatening to injure</td>\n",
       "      <td>5821</td>\n",
       "    </tr>\n",
       "    <tr>\n",
       "      <td>4</td>\n",
       "      <td>Criminal mischief - graffiti</td>\n",
       "      <td>3198</td>\n",
       "    </tr>\n",
       "    <tr>\n",
       "      <td>5</td>\n",
       "      <td>Curfew</td>\n",
       "      <td>1579</td>\n",
       "    </tr>\n",
       "    <tr>\n",
       "      <td>6</td>\n",
       "      <td>Public  peace - other</td>\n",
       "      <td>1569</td>\n",
       "    </tr>\n",
       "    <tr>\n",
       "      <td>7</td>\n",
       "      <td>Harassment</td>\n",
       "      <td>1237</td>\n",
       "    </tr>\n",
       "    <tr>\n",
       "      <td>8</td>\n",
       "      <td>Engaging in prostitution</td>\n",
       "      <td>1000</td>\n",
       "    </tr>\n",
       "    <tr>\n",
       "      <td>9</td>\n",
       "      <td>Harassment - DV</td>\n",
       "      <td>527</td>\n",
       "    </tr>\n",
       "    <tr>\n",
       "      <td>10</td>\n",
       "      <td>Harassment - sexual in nature</td>\n",
       "      <td>362</td>\n",
       "    </tr>\n",
       "    <tr>\n",
       "      <td>11</td>\n",
       "      <td>Harassment by stalking - domestic violence</td>\n",
       "      <td>244</td>\n",
       "    </tr>\n",
       "    <tr>\n",
       "      <td>12</td>\n",
       "      <td>Pimping for prostitution</td>\n",
       "      <td>33</td>\n",
       "    </tr>\n",
       "    <tr>\n",
       "      <td>13</td>\n",
       "      <td>Loitering</td>\n",
       "      <td>8</td>\n",
       "    </tr>\n",
       "    <tr>\n",
       "      <td>14</td>\n",
       "      <td>Aiding the act of prostitution</td>\n",
       "      <td>5</td>\n",
       "    </tr>\n",
       "    <tr>\n",
       "      <td>15</td>\n",
       "      <td>Engaging in  a riot</td>\n",
       "      <td>1</td>\n",
       "    </tr>\n",
       "    <tr>\n",
       "      <td>16</td>\n",
       "      <td>Inciting a riot</td>\n",
       "      <td>1</td>\n",
       "    </tr>\n",
       "  </tbody>\n",
       "</table>\n",
       "</div>"
      ],
      "text/plain": [
       "                                        Crimes  Counts\n",
       "0         Criminal mischief to a motor vehicle   15958\n",
       "1                    Criminal mischief - other   14114\n",
       "2                         Disturbing the peace    8928\n",
       "3                        Threatening to injure    5821\n",
       "4                 Criminal mischief - graffiti    3198\n",
       "5                                       Curfew    1579\n",
       "6                        Public  peace - other    1569\n",
       "7                                   Harassment    1237\n",
       "8                     Engaging in prostitution    1000\n",
       "9                              Harassment - DV     527\n",
       "10               Harassment - sexual in nature     362\n",
       "11  Harassment by stalking - domestic violence     244\n",
       "12                    Pimping for prostitution      33\n",
       "13                                   Loitering       8\n",
       "14              Aiding the act of prostitution       5\n",
       "15                         Engaging in  a riot       1\n",
       "16                             Inciting a riot       1"
      ]
     },
     "execution_count": 26,
     "metadata": {},
     "output_type": "execute_result"
    }
   ],
   "source": [
    "PD"
   ]
  },
  {
   "cell_type": "code",
   "execution_count": 27,
   "metadata": {},
   "outputs": [
    {
     "data": {
      "text/plain": [
       "<matplotlib.axes._subplots.AxesSubplot at 0x1a6c02dd7b8>"
      ]
     },
     "execution_count": 27,
     "metadata": {},
     "output_type": "execute_result"
    },
    {
     "data": {
      "image/png": "[encoded data removed]",
      "text/plain": [
       "<Figure size 504x504 with 1 Axes>"
      ]
     },
     "metadata": {},
     "output_type": "display_data"
    }
   ],
   "source": [
    "plt.figure(figsize=(7,7))\n",
    "plt.title(\"Kind of 'Public disorder'\")\n",
    "sns.barplot(data=PD, x='Counts', y='Crimes')"
   ]
  },
  {
   "cell_type": "code",
   "execution_count": 28,
   "metadata": {
    "scrolled": true
   },
   "outputs": [
    {
     "data": {
      "text/plain": [
       "['riot-incite',\n",
       " 'riot',\n",
       " 'theft-from-yards',\n",
       " 'money-laundering',\n",
       " 'altering-vin-number',\n",
       " 'theft-of-cable-services',\n",
       " 'explosives-posses']"
      ]
     },
     "execution_count": 28,
     "metadata": {},
     "output_type": "execute_result"
    }
   ],
   "source": [
    "list((df['OFFENSE_TYPE_ID'].value_counts()==1)[-7:].keys())"
   ]
  },
  {
   "cell_type": "code",
   "execution_count": 29,
   "metadata": {
    "scrolled": false
   },
   "outputs": [
    {
     "data": {
      "text/html": [
       "<div>\n",
       "<style scoped>\n",
       "    .dataframe tbody tr th:only-of-type {\n",
       "        vertical-align: middle;\n",
       "    }\n",
       "\n",
       "    .dataframe tbody tr th {\n",
       "        vertical-align: top;\n",
       "    }\n",
       "\n",
       "    .dataframe thead th {\n",
       "        text-align: right;\n",
       "    }\n",
       "</style>\n",
       "<table border=\"1\" class=\"dataframe\">\n",
       "  <thead>\n",
       "    <tr style=\"text-align: right;\">\n",
       "      <th></th>\n",
       "      <th>OFFENSE_ID</th>\n",
       "      <th>FIRST_OCCURRENCE_DATE</th>\n",
       "      <th>OFFENSE_TYPE_NAME</th>\n",
       "      <th>OFFENSE_CATEGORY_NAME</th>\n",
       "    </tr>\n",
       "  </thead>\n",
       "  <tbody>\n",
       "    <tr>\n",
       "      <td>399392</td>\n",
       "      <td>20142204220200</td>\n",
       "      <td>2014-01-02 00:00:00</td>\n",
       "      <td>Burglary of a residence with forced entry</td>\n",
       "      <td>Burglary</td>\n",
       "    </tr>\n",
       "    <tr>\n",
       "      <td>502616</td>\n",
       "      <td>20145003027260400</td>\n",
       "      <td>2014-01-02 00:01:00</td>\n",
       "      <td>Identity theft</td>\n",
       "      <td>White Collar Crime</td>\n",
       "    </tr>\n",
       "    <tr>\n",
       "      <td>86149</td>\n",
       "      <td>20141945549900</td>\n",
       "      <td>2014-01-02 00:06:00</td>\n",
       "      <td>Traffic offense - other</td>\n",
       "      <td>All Other Crimes</td>\n",
       "    </tr>\n",
       "    <tr>\n",
       "      <td>302934</td>\n",
       "      <td>20141987131600</td>\n",
       "      <td>2014-01-02 00:30:00</td>\n",
       "      <td>Threatening to injure</td>\n",
       "      <td>Public Disorder</td>\n",
       "    </tr>\n",
       "    <tr>\n",
       "      <td>463883</td>\n",
       "      <td>20141987131302</td>\n",
       "      <td>2014-01-02 00:30:00</td>\n",
       "      <td>Assault causing minor bodily injury - domestic...</td>\n",
       "      <td>Other Crimes Against Persons</td>\n",
       "    </tr>\n",
       "    <tr>\n",
       "      <td>...</td>\n",
       "      <td>...</td>\n",
       "      <td>...</td>\n",
       "      <td>...</td>\n",
       "      <td>...</td>\n",
       "    </tr>\n",
       "    <tr>\n",
       "      <td>392406</td>\n",
       "      <td>2019704421739902</td>\n",
       "      <td>2019-11-05 02:17:00</td>\n",
       "      <td>Public order offense - other</td>\n",
       "      <td>All Other Crimes</td>\n",
       "    </tr>\n",
       "    <tr>\n",
       "      <td>2800</td>\n",
       "      <td>2019704450521300</td>\n",
       "      <td>2019-11-05 03:04:00</td>\n",
       "      <td>Unlawful discharge of a weapon</td>\n",
       "      <td>All Other Crimes</td>\n",
       "    </tr>\n",
       "    <tr>\n",
       "      <td>400373</td>\n",
       "      <td>2019704505220200</td>\n",
       "      <td>2019-11-05 04:00:00</td>\n",
       "      <td>Burglary of a residence with forced entry</td>\n",
       "      <td>Burglary</td>\n",
       "    </tr>\n",
       "    <tr>\n",
       "      <td>172680</td>\n",
       "      <td>2019704511357200</td>\n",
       "      <td>2019-11-05 04:45:00</td>\n",
       "      <td>Possession of methampetamine</td>\n",
       "      <td>Drug &amp; Alcohol</td>\n",
       "    </tr>\n",
       "    <tr>\n",
       "      <td>199884</td>\n",
       "      <td>2019704598240400</td>\n",
       "      <td>2019-11-05 06:30:00</td>\n",
       "      <td>Motor vehicle theft</td>\n",
       "      <td>Auto Theft</td>\n",
       "    </tr>\n",
       "  </tbody>\n",
       "</table>\n",
       "<p>526100 rows × 4 columns</p>\n",
       "</div>"
      ],
      "text/plain": [
       "               OFFENSE_ID FIRST_OCCURRENCE_DATE  \\\n",
       "399392     20142204220200   2014-01-02 00:00:00   \n",
       "502616  20145003027260400   2014-01-02 00:01:00   \n",
       "86149      20141945549900   2014-01-02 00:06:00   \n",
       "302934     20141987131600   2014-01-02 00:30:00   \n",
       "463883     20141987131302   2014-01-02 00:30:00   \n",
       "...                   ...                   ...   \n",
       "392406   2019704421739902   2019-11-05 02:17:00   \n",
       "2800     2019704450521300   2019-11-05 03:04:00   \n",
       "400373   2019704505220200   2019-11-05 04:00:00   \n",
       "172680   2019704511357200   2019-11-05 04:45:00   \n",
       "199884   2019704598240400   2019-11-05 06:30:00   \n",
       "\n",
       "                                        OFFENSE_TYPE_NAME  \\\n",
       "399392          Burglary of a residence with forced entry   \n",
       "502616                                     Identity theft   \n",
       "86149                             Traffic offense - other   \n",
       "302934                              Threatening to injure   \n",
       "463883  Assault causing minor bodily injury - domestic...   \n",
       "...                                                   ...   \n",
       "392406                       Public order offense - other   \n",
       "2800                       Unlawful discharge of a weapon   \n",
       "400373          Burglary of a residence with forced entry   \n",
       "172680                       Possession of methampetamine   \n",
       "199884                                Motor vehicle theft   \n",
       "\n",
       "               OFFENSE_CATEGORY_NAME  \n",
       "399392                      Burglary  \n",
       "502616            White Collar Crime  \n",
       "86149               All Other Crimes  \n",
       "302934               Public Disorder  \n",
       "463883  Other Crimes Against Persons  \n",
       "...                              ...  \n",
       "392406              All Other Crimes  \n",
       "2800                All Other Crimes  \n",
       "400373                      Burglary  \n",
       "172680                Drug & Alcohol  \n",
       "199884                    Auto Theft  \n",
       "\n",
       "[526100 rows x 4 columns]"
      ]
     },
     "execution_count": 29,
     "metadata": {},
     "output_type": "execute_result"
    }
   ],
   "source": [
    "dff.sort_values(by='FIRST_OCCURRENCE_DATE')"
   ]
  },
  {
   "cell_type": "code",
   "execution_count": 30,
   "metadata": {},
   "outputs": [],
   "source": [
    "def clearcrime(columns, year):\n",
    "    data = pd.DataFrame(dff.loc[(dff['OFFENSE_CATEGORY_NAME']==columns)&(dff['FIRST_OCCURRENCE_DATE'].dt.year==year), 'OFFENSE_TYPE_NAME'].value_counts()).reset_index()\n",
    "    data.columns=['crime', 'count']\n",
    "    return data"
   ]
  },
  {
   "cell_type": "code",
   "execution_count": 31,
   "metadata": {
    "scrolled": true
   },
   "outputs": [
    {
     "data": {
      "text/plain": [
       "Traffic Accident                136967\n",
       "All Other Crimes                 94817\n",
       "Public Disorder                  54585\n",
       "Larceny                          53502\n",
       "Theft from Motor Vehicle         40021\n",
       "Drug & Alcohol                   34402\n",
       "Auto Theft                       28050\n",
       "Other Crimes Against Persons     25911\n",
       "Burglary                         25890\n",
       "Aggravated Assault               12561\n",
       "White Collar Crime                7206\n",
       "Robbery                           6835\n",
       "Sexual Assault                    4376\n",
       "Arson                              655\n",
       "Murder                             322\n",
       "Name: OFFENSE_CATEGORY_NAME, dtype: int64"
      ]
     },
     "execution_count": 31,
     "metadata": {},
     "output_type": "execute_result"
    }
   ],
   "source": [
    "dff['OFFENSE_CATEGORY_NAME'].value_counts()"
   ]
  },
  {
   "cell_type": "code",
   "execution_count": 32,
   "metadata": {},
   "outputs": [
    {
     "data": {
      "text/plain": [
       "4927"
      ]
     },
     "execution_count": 32,
     "metadata": {},
     "output_type": "execute_result"
    }
   ],
   "source": [
    "drug2018 = clearcrime('Drug & Alcohol' ,2018)\n",
    "drug2018.loc[drug2018['crime'].str.contains('osses'),'count'].sum()"
   ]
  },
  {
   "cell_type": "code",
   "execution_count": 33,
   "metadata": {},
   "outputs": [],
   "source": [
    "def clearcrime(columns, year):\n",
    "    data = pd.DataFrame(dff.loc[(dff['OFFENSE_CATEGORY_NAME']==columns)&(dff['FIRST_OCCURRENCE_DATE'].dt.year==year), 'OFFENSE_TYPE_NAME'].value_counts()).reset_index()\n",
    "    data.columns=['crime', 'count']\n",
    "    return data\n",
    "\n",
    "def possessplot(year):\n",
    "    df = clearcrime('Drug & Alcohol', year)\n",
    "    return df.loc[df['crime'].str.contains('osses'), 'count'].sum()\n",
    "\n",
    "def sellingplot(year):\n",
    "    df = clearcrime('Drug & Alcohol', year)\n",
    "    return df.loc[df['crime'].str.contains('ellin'), 'count'].sum()"
   ]
  },
  {
   "cell_type": "code",
   "execution_count": 34,
   "metadata": {
    "scrolled": false
   },
   "outputs": [
    {
     "data": {
      "text/html": [
       "<div>\n",
       "<style scoped>\n",
       "    .dataframe tbody tr th:only-of-type {\n",
       "        vertical-align: middle;\n",
       "    }\n",
       "\n",
       "    .dataframe tbody tr th {\n",
       "        vertical-align: top;\n",
       "    }\n",
       "\n",
       "    .dataframe thead th {\n",
       "        text-align: right;\n",
       "    }\n",
       "</style>\n",
       "<table border=\"1\" class=\"dataframe\">\n",
       "  <thead>\n",
       "    <tr style=\"text-align: right;\">\n",
       "      <th></th>\n",
       "      <th>Possession of drug</th>\n",
       "      <th>Selling drug</th>\n",
       "    </tr>\n",
       "  </thead>\n",
       "  <tbody>\n",
       "    <tr>\n",
       "      <td>2014</td>\n",
       "      <td>5179</td>\n",
       "      <td>563</td>\n",
       "    </tr>\n",
       "    <tr>\n",
       "      <td>2015</td>\n",
       "      <td>5361</td>\n",
       "      <td>575</td>\n",
       "    </tr>\n",
       "    <tr>\n",
       "      <td>2016</td>\n",
       "      <td>5079</td>\n",
       "      <td>646</td>\n",
       "    </tr>\n",
       "    <tr>\n",
       "      <td>2017</td>\n",
       "      <td>4672</td>\n",
       "      <td>663</td>\n",
       "    </tr>\n",
       "    <tr>\n",
       "      <td>2018</td>\n",
       "      <td>4927</td>\n",
       "      <td>833</td>\n",
       "    </tr>\n",
       "  </tbody>\n",
       "</table>\n",
       "</div>"
      ],
      "text/plain": [
       "      Possession of drug  Selling drug\n",
       "2014                5179           563\n",
       "2015                5361           575\n",
       "2016                5079           646\n",
       "2017                4672           663\n",
       "2018                4927           833"
      ]
     },
     "execution_count": 34,
     "metadata": {},
     "output_type": "execute_result"
    }
   ],
   "source": [
    "dfd = pd.DataFrame(\n",
    "    index=['2014', '2015', '2016', '2017', '2018'],\n",
    "    columns=['Possession of drug', 'Selling drug'])\n",
    "dfd = dfd.fillna(0)\n",
    "for i in range(5):\n",
    "    dfd['Possession of drug'][i]=possessplot(i+2014)\n",
    "    dfd['Selling drug'][i]=sellingplot(i+2014)\n",
    "dfd"
   ]
  },
  {
   "cell_type": "code",
   "execution_count": 35,
   "metadata": {
    "scrolled": true
   },
   "outputs": [
    {
     "data": {
      "text/plain": [
       "<matplotlib.axes._subplots.AxesSubplot at 0x1a6c2718eb8>"
      ]
     },
     "execution_count": 35,
     "metadata": {},
     "output_type": "execute_result"
    },
    {
     "data": {
      "image/png": "[encoded data removed]",
      "text/plain": [
       "<Figure size 504x360 with 1 Axes>"
      ]
     },
     "metadata": {},
     "output_type": "display_data"
    }
   ],
   "source": [
    "plt.figure(figsize=(7,5))\n",
    "plt.title('Possession and selling of drug')\n",
    "sns.lineplot(data=dfd)"
   ]
  },
  {
   "cell_type": "markdown",
   "metadata": {},
   "source": [
    "* 콜로라도 주의 대마가 2014년 합법화 되면서 마약의 판매율이 상승하고 있다."
   ]
  },
  {
   "cell_type": "code",
   "execution_count": 36,
   "metadata": {},
   "outputs": [],
   "source": [
    "dff['YEAR'] = dff['FIRST_OCCURRENCE_DATE'].dt.year"
   ]
  },
  {
   "cell_type": "code",
   "execution_count": 37,
   "metadata": {
    "scrolled": true
   },
   "outputs": [],
   "source": [
    "dff['MONTH'] = dff['FIRST_OCCURRENCE_DATE'].dt.month"
   ]
  },
  {
   "cell_type": "code",
   "execution_count": 38,
   "metadata": {},
   "outputs": [],
   "source": [
    "dff['HOUR'] = dff['FIRST_OCCURRENCE_DATE'].dt.hour"
   ]
  },
  {
   "cell_type": "code",
   "execution_count": 39,
   "metadata": {
    "scrolled": true
   },
   "outputs": [
    {
     "data": {
      "text/html": [
       "<div>\n",
       "<style scoped>\n",
       "    .dataframe tbody tr th:only-of-type {\n",
       "        vertical-align: middle;\n",
       "    }\n",
       "\n",
       "    .dataframe tbody tr th {\n",
       "        vertical-align: top;\n",
       "    }\n",
       "\n",
       "    .dataframe thead th {\n",
       "        text-align: right;\n",
       "    }\n",
       "</style>\n",
       "<table border=\"1\" class=\"dataframe\">\n",
       "  <thead>\n",
       "    <tr style=\"text-align: right;\">\n",
       "      <th></th>\n",
       "      <th>OFFENSE_ID</th>\n",
       "      <th>FIRST_OCCURRENCE_DATE</th>\n",
       "      <th>OFFENSE_TYPE_NAME</th>\n",
       "      <th>OFFENSE_CATEGORY_NAME</th>\n",
       "      <th>YEAR</th>\n",
       "      <th>MONTH</th>\n",
       "      <th>HOUR</th>\n",
       "    </tr>\n",
       "  </thead>\n",
       "  <tbody>\n",
       "    <tr>\n",
       "      <td>0</td>\n",
       "      <td>2016376978521300</td>\n",
       "      <td>2016-06-15 23:31:00</td>\n",
       "      <td>Unlawful discharge of a weapon</td>\n",
       "      <td>All Other Crimes</td>\n",
       "      <td>2016</td>\n",
       "      <td>6</td>\n",
       "      <td>23</td>\n",
       "    </tr>\n",
       "    <tr>\n",
       "      <td>1</td>\n",
       "      <td>201872599521300</td>\n",
       "      <td>2018-01-30 22:14:00</td>\n",
       "      <td>Unlawful discharge of a weapon</td>\n",
       "      <td>All Other Crimes</td>\n",
       "      <td>2018</td>\n",
       "      <td>1</td>\n",
       "      <td>22</td>\n",
       "    </tr>\n",
       "    <tr>\n",
       "      <td>2</td>\n",
       "      <td>201866465521300</td>\n",
       "      <td>2018-01-28 13:30:00</td>\n",
       "      <td>Unlawful discharge of a weapon</td>\n",
       "      <td>All Other Crimes</td>\n",
       "      <td>2018</td>\n",
       "      <td>1</td>\n",
       "      <td>13</td>\n",
       "    </tr>\n",
       "    <tr>\n",
       "      <td>3</td>\n",
       "      <td>201872704521300</td>\n",
       "      <td>2018-01-30 23:08:00</td>\n",
       "      <td>Unlawful discharge of a weapon</td>\n",
       "      <td>All Other Crimes</td>\n",
       "      <td>2018</td>\n",
       "      <td>1</td>\n",
       "      <td>23</td>\n",
       "    </tr>\n",
       "    <tr>\n",
       "      <td>4</td>\n",
       "      <td>2018255494521300</td>\n",
       "      <td>2018-04-17 02:29:00</td>\n",
       "      <td>Unlawful discharge of a weapon</td>\n",
       "      <td>All Other Crimes</td>\n",
       "      <td>2018</td>\n",
       "      <td>4</td>\n",
       "      <td>2</td>\n",
       "    </tr>\n",
       "    <tr>\n",
       "      <td>...</td>\n",
       "      <td>...</td>\n",
       "      <td>...</td>\n",
       "      <td>...</td>\n",
       "      <td>...</td>\n",
       "      <td>...</td>\n",
       "      <td>...</td>\n",
       "      <td>...</td>\n",
       "    </tr>\n",
       "    <tr>\n",
       "      <td>526095</td>\n",
       "      <td>2015461923091000</td>\n",
       "      <td>2015-08-13 16:54:00</td>\n",
       "      <td>Homicide by negligence</td>\n",
       "      <td>Murder</td>\n",
       "      <td>2015</td>\n",
       "      <td>8</td>\n",
       "      <td>16</td>\n",
       "    </tr>\n",
       "    <tr>\n",
       "      <td>526096</td>\n",
       "      <td>2015649351530300</td>\n",
       "      <td>2015-11-05 18:43:00</td>\n",
       "      <td>Engaging in  a riot</td>\n",
       "      <td>Public Disorder</td>\n",
       "      <td>2015</td>\n",
       "      <td>11</td>\n",
       "      <td>18</td>\n",
       "    </tr>\n",
       "    <tr>\n",
       "      <td>526097</td>\n",
       "      <td>2018791389250301</td>\n",
       "      <td>2018-11-20 22:04:00</td>\n",
       "      <td>Altering a vehicle VIN number</td>\n",
       "      <td>White Collar Crime</td>\n",
       "      <td>2018</td>\n",
       "      <td>11</td>\n",
       "      <td>22</td>\n",
       "    </tr>\n",
       "    <tr>\n",
       "      <td>526098</td>\n",
       "      <td>20195003270090700</td>\n",
       "      <td>2019-08-15 23:42:00</td>\n",
       "      <td>Homicide of a Police Officer w/gun</td>\n",
       "      <td>Murder</td>\n",
       "      <td>2019</td>\n",
       "      <td>8</td>\n",
       "      <td>23</td>\n",
       "    </tr>\n",
       "    <tr>\n",
       "      <td>526099</td>\n",
       "      <td>2019674091090700</td>\n",
       "      <td>2019-10-21 13:52:00</td>\n",
       "      <td>Homicide of a Police Officer w/gun</td>\n",
       "      <td>Murder</td>\n",
       "      <td>2019</td>\n",
       "      <td>10</td>\n",
       "      <td>13</td>\n",
       "    </tr>\n",
       "  </tbody>\n",
       "</table>\n",
       "<p>526100 rows × 7 columns</p>\n",
       "</div>"
      ],
      "text/plain": [
       "               OFFENSE_ID FIRST_OCCURRENCE_DATE  \\\n",
       "0        2016376978521300   2016-06-15 23:31:00   \n",
       "1         201872599521300   2018-01-30 22:14:00   \n",
       "2         201866465521300   2018-01-28 13:30:00   \n",
       "3         201872704521300   2018-01-30 23:08:00   \n",
       "4        2018255494521300   2018-04-17 02:29:00   \n",
       "...                   ...                   ...   \n",
       "526095   2015461923091000   2015-08-13 16:54:00   \n",
       "526096   2015649351530300   2015-11-05 18:43:00   \n",
       "526097   2018791389250301   2018-11-20 22:04:00   \n",
       "526098  20195003270090700   2019-08-15 23:42:00   \n",
       "526099   2019674091090700   2019-10-21 13:52:00   \n",
       "\n",
       "                         OFFENSE_TYPE_NAME OFFENSE_CATEGORY_NAME  YEAR  MONTH  \\\n",
       "0           Unlawful discharge of a weapon      All Other Crimes  2016      6   \n",
       "1           Unlawful discharge of a weapon      All Other Crimes  2018      1   \n",
       "2           Unlawful discharge of a weapon      All Other Crimes  2018      1   \n",
       "3           Unlawful discharge of a weapon      All Other Crimes  2018      1   \n",
       "4           Unlawful discharge of a weapon      All Other Crimes  2018      4   \n",
       "...                                    ...                   ...   ...    ...   \n",
       "526095              Homicide by negligence                Murder  2015      8   \n",
       "526096                 Engaging in  a riot       Public Disorder  2015     11   \n",
       "526097       Altering a vehicle VIN number    White Collar Crime  2018     11   \n",
       "526098  Homicide of a Police Officer w/gun                Murder  2019      8   \n",
       "526099  Homicide of a Police Officer w/gun                Murder  2019     10   \n",
       "\n",
       "        HOUR  \n",
       "0         23  \n",
       "1         22  \n",
       "2         13  \n",
       "3         23  \n",
       "4          2  \n",
       "...      ...  \n",
       "526095    16  \n",
       "526096    18  \n",
       "526097    22  \n",
       "526098    23  \n",
       "526099    13  \n",
       "\n",
       "[526100 rows x 7 columns]"
      ]
     },
     "execution_count": 39,
     "metadata": {},
     "output_type": "execute_result"
    }
   ],
   "source": [
    "dff"
   ]
  },
  {
   "cell_type": "code",
   "execution_count": 40,
   "metadata": {},
   "outputs": [],
   "source": [
    "def moncrimecount(year):\n",
    "    mon = pd.DataFrame(dff.loc[dff['YEAR']==year]['MONTH'].value_counts()).reset_index()\n",
    "    mon.columns=['MONTH', 'COUNT']\n",
    "    mon = mon.sort_values(by='MONTH')\n",
    "    mon['YEAR'] = year\n",
    "    return mon"
   ]
  },
  {
   "cell_type": "code",
   "execution_count": 41,
   "metadata": {},
   "outputs": [],
   "source": [
    "mon14 = moncrimecount(2014)\n",
    "mon15 = moncrimecount(2015)\n",
    "mon16 = moncrimecount(2016)\n",
    "mon17 = moncrimecount(2017)\n",
    "mon18 = moncrimecount(2018)"
   ]
  },
  {
   "cell_type": "code",
   "execution_count": 42,
   "metadata": {},
   "outputs": [],
   "source": [
    "moncrime = pd.merge(mon14, mon15, how='outer').merge(mon16, how='outer').merge(mon17, how='outer').merge(mon18, how='outer')"
   ]
  },
  {
   "cell_type": "code",
   "execution_count": 43,
   "metadata": {},
   "outputs": [
    {
     "data": {
      "text/plain": [
       "<matplotlib.axes._subplots.AxesSubplot at 0x1a6c2710080>"
      ]
     },
     "execution_count": 43,
     "metadata": {},
     "output_type": "execute_result"
    },
    {
     "data": {
      "image/png": "[encoded data removed]",
      "text/plain": [
       "<Figure size 720x360 with 1 Axes>"
      ]
     },
     "metadata": {},
     "output_type": "display_data"
    }
   ],
   "source": [
    "plt.figure(figsize=(10,5))\n",
    "plt.title('월별 범죄 건수')\n",
    "sns.pointplot(data=moncrime, x='MONTH', y='COUNT', hue='YEAR', palette = 'rainbow')"
   ]
  },
  {
   "cell_type": "code",
   "execution_count": 44,
   "metadata": {},
   "outputs": [],
   "source": [
    "traffic = pd.DataFrame(dff.loc[dff['OFFENSE_CATEGORY_NAME'].str.contains('Traffic'),'HOUR'].value_counts())"
   ]
  },
  {
   "cell_type": "code",
   "execution_count": 45,
   "metadata": {
    "scrolled": true
   },
   "outputs": [],
   "source": [
    "traffic = traffic.reset_index()"
   ]
  },
  {
   "cell_type": "code",
   "execution_count": 46,
   "metadata": {},
   "outputs": [],
   "source": [
    "traffic.columns=['HOUR', 'COUNT']"
   ]
  },
  {
   "cell_type": "code",
   "execution_count": 47,
   "metadata": {},
   "outputs": [
    {
     "data": {
      "text/html": [
       "<div>\n",
       "<style scoped>\n",
       "    .dataframe tbody tr th:only-of-type {\n",
       "        vertical-align: middle;\n",
       "    }\n",
       "\n",
       "    .dataframe tbody tr th {\n",
       "        vertical-align: top;\n",
       "    }\n",
       "\n",
       "    .dataframe thead th {\n",
       "        text-align: right;\n",
       "    }\n",
       "</style>\n",
       "<table border=\"1\" class=\"dataframe\">\n",
       "  <thead>\n",
       "    <tr style=\"text-align: right;\">\n",
       "      <th></th>\n",
       "      <th>HOUR</th>\n",
       "      <th>COUNT</th>\n",
       "    </tr>\n",
       "  </thead>\n",
       "  <tbody>\n",
       "    <tr>\n",
       "      <td>0</td>\n",
       "      <td>17</td>\n",
       "      <td>11242</td>\n",
       "    </tr>\n",
       "    <tr>\n",
       "      <td>1</td>\n",
       "      <td>16</td>\n",
       "      <td>10932</td>\n",
       "    </tr>\n",
       "    <tr>\n",
       "      <td>2</td>\n",
       "      <td>15</td>\n",
       "      <td>10463</td>\n",
       "    </tr>\n",
       "    <tr>\n",
       "      <td>3</td>\n",
       "      <td>8</td>\n",
       "      <td>8619</td>\n",
       "    </tr>\n",
       "    <tr>\n",
       "      <td>4</td>\n",
       "      <td>14</td>\n",
       "      <td>8597</td>\n",
       "    </tr>\n",
       "    <tr>\n",
       "      <td>5</td>\n",
       "      <td>12</td>\n",
       "      <td>8583</td>\n",
       "    </tr>\n",
       "    <tr>\n",
       "      <td>6</td>\n",
       "      <td>13</td>\n",
       "      <td>8340</td>\n",
       "    </tr>\n",
       "    <tr>\n",
       "      <td>7</td>\n",
       "      <td>7</td>\n",
       "      <td>8045</td>\n",
       "    </tr>\n",
       "    <tr>\n",
       "      <td>8</td>\n",
       "      <td>18</td>\n",
       "      <td>7986</td>\n",
       "    </tr>\n",
       "    <tr>\n",
       "      <td>9</td>\n",
       "      <td>11</td>\n",
       "      <td>7578</td>\n",
       "    </tr>\n",
       "    <tr>\n",
       "      <td>10</td>\n",
       "      <td>9</td>\n",
       "      <td>6663</td>\n",
       "    </tr>\n",
       "    <tr>\n",
       "      <td>11</td>\n",
       "      <td>10</td>\n",
       "      <td>6375</td>\n",
       "    </tr>\n",
       "    <tr>\n",
       "      <td>12</td>\n",
       "      <td>19</td>\n",
       "      <td>5001</td>\n",
       "    </tr>\n",
       "    <tr>\n",
       "      <td>13</td>\n",
       "      <td>20</td>\n",
       "      <td>4098</td>\n",
       "    </tr>\n",
       "    <tr>\n",
       "      <td>14</td>\n",
       "      <td>21</td>\n",
       "      <td>3980</td>\n",
       "    </tr>\n",
       "    <tr>\n",
       "      <td>15</td>\n",
       "      <td>6</td>\n",
       "      <td>3809</td>\n",
       "    </tr>\n",
       "    <tr>\n",
       "      <td>16</td>\n",
       "      <td>22</td>\n",
       "      <td>3647</td>\n",
       "    </tr>\n",
       "    <tr>\n",
       "      <td>17</td>\n",
       "      <td>23</td>\n",
       "      <td>2870</td>\n",
       "    </tr>\n",
       "    <tr>\n",
       "      <td>18</td>\n",
       "      <td>2</td>\n",
       "      <td>2458</td>\n",
       "    </tr>\n",
       "    <tr>\n",
       "      <td>19</td>\n",
       "      <td>0</td>\n",
       "      <td>2189</td>\n",
       "    </tr>\n",
       "    <tr>\n",
       "      <td>20</td>\n",
       "      <td>1</td>\n",
       "      <td>2116</td>\n",
       "    </tr>\n",
       "    <tr>\n",
       "      <td>21</td>\n",
       "      <td>5</td>\n",
       "      <td>1434</td>\n",
       "    </tr>\n",
       "    <tr>\n",
       "      <td>22</td>\n",
       "      <td>3</td>\n",
       "      <td>1101</td>\n",
       "    </tr>\n",
       "    <tr>\n",
       "      <td>23</td>\n",
       "      <td>4</td>\n",
       "      <td>841</td>\n",
       "    </tr>\n",
       "  </tbody>\n",
       "</table>\n",
       "</div>"
      ],
      "text/plain": [
       "    HOUR  COUNT\n",
       "0     17  11242\n",
       "1     16  10932\n",
       "2     15  10463\n",
       "3      8   8619\n",
       "4     14   8597\n",
       "5     12   8583\n",
       "6     13   8340\n",
       "7      7   8045\n",
       "8     18   7986\n",
       "9     11   7578\n",
       "10     9   6663\n",
       "11    10   6375\n",
       "12    19   5001\n",
       "13    20   4098\n",
       "14    21   3980\n",
       "15     6   3809\n",
       "16    22   3647\n",
       "17    23   2870\n",
       "18     2   2458\n",
       "19     0   2189\n",
       "20     1   2116\n",
       "21     5   1434\n",
       "22     3   1101\n",
       "23     4    841"
      ]
     },
     "execution_count": 47,
     "metadata": {},
     "output_type": "execute_result"
    }
   ],
   "source": [
    "traffic"
   ]
  },
  {
   "cell_type": "code",
   "execution_count": 48,
   "metadata": {},
   "outputs": [
    {
     "data": {
      "text/plain": [
       "<matplotlib.axes._subplots.AxesSubplot at 0x1a6cd81b400>"
      ]
     },
     "execution_count": 48,
     "metadata": {},
     "output_type": "execute_result"
    },
    {
     "data": {
      "image/png": "[encoded data removed]",
      "text/plain": [
       "<Figure size 432x288 with 1 Axes>"
      ]
     },
     "metadata": {},
     "output_type": "display_data"
    }
   ],
   "source": [
    "plt.title('What time has How many Traffic accident')\n",
    "sns.pointplot(data=traffic, x='HOUR', y='COUNT')"
   ]
  },
  {
   "cell_type": "markdown",
   "metadata": {},
   "source": [
    "1. 상대적으로 차가 적은 새벽시간에는 교통사고가 적다.\n",
    "1. 상대적으로 차가 많은 출퇴근 시간대에 교통사고가 많다."
   ]
  }
 ],
 "metadata": {
  "kernelspec": {
   "display_name": "Python 3",
   "language": "python",
   "name": "python3"
  },
  "language_info": {
   "codemirror_mode": {
    "name": "ipython",
    "version": 3
   },
   "file_extension": ".py",
   "mimetype": "text/x-python",
   "name": "python",
   "nbconvert_exporter": "python",
   "pygments_lexer": "ipython3",
   "version": "3.7.3"
  }
 },
 "nbformat": 4,
 "nbformat_minor": 2
}
